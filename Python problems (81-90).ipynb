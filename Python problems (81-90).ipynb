{
 "cells": [
  {
   "cell_type": "code",
   "execution_count": 1,
   "id": "7ef2f59e",
   "metadata": {},
   "outputs": [],
   "source": [
    "import pandas as pd\n",
    "import numpy as np"
   ]
  },
  {
   "cell_type": "markdown",
   "id": "6c70b11f",
   "metadata": {},
   "source": [
    "### Question 81\n",
    "By using list comprehension, please write a program to print the list after removing numbers which are divisible by 5 and 7 in [12,24,35,70,88,120,155]."
   ]
  },
  {
   "cell_type": "code",
   "execution_count": 2,
   "id": "2ef213f2",
   "metadata": {},
   "outputs": [
    {
     "name": "stdout",
     "output_type": "stream",
     "text": [
      "[12, 24, 88, 120, 155]\n"
     ]
    }
   ],
   "source": [
    "l = [12,24,35,70,88,120,155]\n",
    "print([i for i in l if i%35 != 0])"
   ]
  },
  {
   "cell_type": "markdown",
   "id": "57fd459c",
   "metadata": {},
   "source": [
    "### Question 82\n",
    "By using list comprehension, please write a program to print the list after removing the 0th, 2nd, 4th,6th numbers in [12,24,35,70,88,120,155]."
   ]
  },
  {
   "cell_type": "code",
   "execution_count": 30,
   "id": "e371cf67",
   "metadata": {},
   "outputs": [
    {
     "name": "stdout",
     "output_type": "stream",
     "text": [
      "[24, 70, 120]\n",
      "[24, 70, 120]\n",
      "[24, 70, 120]\n"
     ]
    }
   ],
   "source": [
    "l = [12,24,35,70,88,120,155]\n",
    "print([i for i in l if l.index(i) not in (0,2,4,6)])\n",
    "\n",
    "#OR\n",
    "print([x for i,x in enumerate(l) if i%2 != 0])  #this will work only if the index we want to remove are odd\n",
    "\n",
    "#OR\n",
    "print([l[x] for x in range(len(l)) if x%2 != 0])  ##this will work only if the index we want to remove are odd"
   ]
  },
  {
   "cell_type": "markdown",
   "id": "bbfa5f61",
   "metadata": {},
   "source": [
    "### Question 83\n",
    "By using list comprehension, please write a program to print the list after removing the 2nd - 4th numbers in [12,24,35,70,88,120,155].\n",
    "\n",
    "Use list comprehension to delete a bunch of element from a list. Use enumerate() to get (index, value) tuple."
   ]
  },
  {
   "cell_type": "code",
   "execution_count": 29,
   "id": "e265afe9",
   "metadata": {},
   "outputs": [
    {
     "name": "stdout",
     "output_type": "stream",
     "text": [
      "[12, 24, 70, 120, 155]\n"
     ]
    }
   ],
   "source": [
    "l = [12,24,35,70,88,120,155]\n",
    "print([x for i,x in enumerate(l) if i not in (2,4)])"
   ]
  },
  {
   "cell_type": "markdown",
   "id": "5b180c9f",
   "metadata": {},
   "source": [
    "### Question 84\n",
    "By using list comprehension, please write a program to generate a 3 \\ (5 * 8) 3D array whose each element is 0.*"
   ]
  },
  {
   "cell_type": "code",
   "execution_count": 23,
   "id": "2d99280d",
   "metadata": {},
   "outputs": [
    {
     "name": "stdout",
     "output_type": "stream",
     "text": [
      "[[[0, 0, 0, 0, 0, 0, 0, 0], [0, 0, 0, 0, 0, 0, 0, 0], [0, 0, 0, 0, 0, 0, 0, 0], [0, 0, 0, 0, 0, 0, 0, 0], [0, 0, 0, 0, 0, 0, 0, 0]], [[0, 0, 0, 0, 0, 0, 0, 0], [0, 0, 0, 0, 0, 0, 0, 0], [0, 0, 0, 0, 0, 0, 0, 0], [0, 0, 0, 0, 0, 0, 0, 0], [0, 0, 0, 0, 0, 0, 0, 0]], [[0, 0, 0, 0, 0, 0, 0, 0], [0, 0, 0, 0, 0, 0, 0, 0], [0, 0, 0, 0, 0, 0, 0, 0], [0, 0, 0, 0, 0, 0, 0, 0], [0, 0, 0, 0, 0, 0, 0, 0]]]\n"
     ]
    }
   ],
   "source": [
    "print([[[0 for i in range(8)] for k in range(5)] for k in range(3)])"
   ]
  },
  {
   "cell_type": "markdown",
   "id": "b5a5fe4e",
   "metadata": {},
   "source": [
    "### Question 85\n",
    "By using list comprehension, please write a program to print the list after removing the 0th,4th,5th numbers in [12,24,35,70,88,120,155]."
   ]
  },
  {
   "cell_type": "code",
   "execution_count": 24,
   "id": "2a2f064e",
   "metadata": {},
   "outputs": [
    {
     "name": "stdout",
     "output_type": "stream",
     "text": [
      "[24, 35, 70, 155]\n"
     ]
    }
   ],
   "source": [
    "l = [12,24,35,70,88,120,155]\n",
    "print([x for i,x in enumerate(l) if i not in (0,4,5)])"
   ]
  },
  {
   "cell_type": "markdown",
   "id": "b3b196e0",
   "metadata": {},
   "source": [
    "### Question 86\n",
    "By using list comprehension, please write a program to print the list after removing the value 24 in [12,24,35,24,88,120,155]."
   ]
  },
  {
   "cell_type": "code",
   "execution_count": 31,
   "id": "af060737",
   "metadata": {},
   "outputs": [
    {
     "name": "stdout",
     "output_type": "stream",
     "text": [
      "[12, 35, 70, 88, 120, 155]\n"
     ]
    }
   ],
   "source": [
    "print([x for x in l if x!=24])"
   ]
  },
  {
   "cell_type": "markdown",
   "id": "8daa9a9b",
   "metadata": {},
   "source": [
    "### Question 87\n",
    "With two given lists [1,3,6,78,35,55] and [12,24,35,24,88,120,155], write a program to make a list whose elements are intersection of the above given lists."
   ]
  },
  {
   "cell_type": "code",
   "execution_count": 37,
   "id": "169963fc",
   "metadata": {},
   "outputs": [
    {
     "name": "stdout",
     "output_type": "stream",
     "text": [
      "[35]\n",
      "{35}\n",
      "{35}\n"
     ]
    }
   ],
   "source": [
    "l1 =  [1,3,6,78,35,55] \n",
    "l2 = [12,24,35,24,88,120,155]\n",
    "\n",
    "print([i for i in l1 if i in l2])\n",
    "\n",
    "#OR using intersection() method\n",
    "print(set(l1).intersection(set(l2)))\n",
    "\n",
    "#OR using &\n",
    "print(set(l1) & set(l2))"
   ]
  },
  {
   "cell_type": "markdown",
   "id": "39da4f89",
   "metadata": {},
   "source": [
    "### Question 88\n",
    "With a given list [12,24,35,24,88,120,155,88,120,155], write a program to print this list after removing all duplicate values with original order reserved."
   ]
  },
  {
   "cell_type": "code",
   "execution_count": 38,
   "id": "3e96115f",
   "metadata": {},
   "outputs": [
    {
     "data": {
      "text/plain": [
       "{12, 24, 35, 88, 120, 155}"
      ]
     },
     "execution_count": 38,
     "metadata": {},
     "output_type": "execute_result"
    }
   ],
   "source": [
    "l = [12,24,35,24,88,120,155,88,120,155]\n",
    "set(l)"
   ]
  },
  {
   "cell_type": "markdown",
   "id": "6931d6ae",
   "metadata": {},
   "source": [
    "### Question 89\n",
    "Define a class Person and its two child classes: Male and Female. All classes have a method \"getGender\" which can print \"Male\" for Male class and \"Female\" for Female class."
   ]
  },
  {
   "cell_type": "code",
   "execution_count": 54,
   "id": "b68b1d8c",
   "metadata": {},
   "outputs": [
    {
     "name": "stdout",
     "output_type": "stream",
     "text": [
      "Unknown\n",
      "Male\n",
      "Female\n"
     ]
    }
   ],
   "source": [
    "class Person():\n",
    "    def getGender(self):\n",
    "        print('Unknown')\n",
    "class Male(Person):\n",
    "    def getGender(self):\n",
    "        print('Male')\n",
    "class Female(Person):\n",
    "    def getGender(self):\n",
    "        print('Female')\n",
    "\n",
    "\n",
    "p = Person()\n",
    "p.getGender()\n",
    "\n",
    "m = Male()\n",
    "m.getGender()\n",
    "\n",
    "f = Female()\n",
    "f.getGender()"
   ]
  },
  {
   "cell_type": "markdown",
   "id": "5d7021b8",
   "metadata": {},
   "source": [
    "### Question 90\n",
    "Please write a program which count and print the numbers of each character in a string input by console.\n",
    "\n",
    "Example: If the following string is given as input to the program: abcdefgabc  \n",
    "Then, the output of the program should be:\n",
    "\n",
    "a,2  \n",
    "c,2  \n",
    "b,2  \n",
    "e,1  \n",
    "d,1  \n",
    "g,1  \n",
    "f,1  \n",
    "\n",
    "Hints : Use dict to store key/value pairs. Use dict.get() method to lookup a key with default value."
   ]
  },
  {
   "cell_type": "code",
   "execution_count": 99,
   "id": "c2b13577",
   "metadata": {},
   "outputs": [
    {
     "name": "stdout",
     "output_type": "stream",
     "text": [
      "abcdefgabc\n",
      "a,2\n",
      "b,2\n",
      "c,2\n",
      "d,1\n",
      "e,1\n",
      "f,1\n",
      "g,1\n",
      "\n",
      "abcdefgabc\n",
      "a,2\n",
      "b,2\n",
      "c,2\n",
      "d,1\n",
      "e,1\n",
      "f,1\n",
      "g,1\n"
     ]
    }
   ],
   "source": [
    "l = [i for i in input()]\n",
    "dict = {}\n",
    "for i in l:\n",
    "    if i in dict.keys():\n",
    "        dict[i] += 1\n",
    "    else:\n",
    "        dict[i] = 1\n",
    "\n",
    "for i, j in dict.items():\n",
    "    print(f'{i},{j}')\n",
    "\n",
    "print()\n",
    "# OR using dictionary comprehension\n",
    "\n",
    "s = input()\n",
    "dict = {word : s.count(word) for word in s}\n",
    "for i,j in dict.items():\n",
    "    print(f'{i},{j}')"
   ]
  },
  {
   "cell_type": "code",
   "execution_count": null,
   "id": "f19b6b57",
   "metadata": {},
   "outputs": [],
   "source": []
  }
 ],
 "metadata": {
  "kernelspec": {
   "display_name": "Python 3 (ipykernel)",
   "language": "python",
   "name": "python3"
  },
  "language_info": {
   "codemirror_mode": {
    "name": "ipython",
    "version": 3
   },
   "file_extension": ".py",
   "mimetype": "text/x-python",
   "name": "python",
   "nbconvert_exporter": "python",
   "pygments_lexer": "ipython3",
   "version": "3.9.7"
  }
 },
 "nbformat": 4,
 "nbformat_minor": 5
}
