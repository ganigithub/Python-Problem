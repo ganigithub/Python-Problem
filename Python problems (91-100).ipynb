{
 "cells": [
  {
   "cell_type": "code",
   "execution_count": 2,
   "id": "e51f227d",
   "metadata": {},
   "outputs": [],
   "source": [
    "import pandas as pd\n",
    "import numpy as np"
   ]
  },
  {
   "cell_type": "markdown",
   "id": "32bf26ae",
   "metadata": {},
   "source": [
    "### Question 91\n",
    "Please write a program which accepts a string from console and print it in reverse order.\n",
    "\n",
    "Example: If the following string is given as input to the program:* rise to vote sir  \n",
    "Then, the output of the program should be: ris etov ot esir\n",
    "\n",
    "Hints : Use list[::-1] to iterate a list in a reverse order."
   ]
  },
  {
   "cell_type": "code",
   "execution_count": 5,
   "id": "1af29c6b",
   "metadata": {},
   "outputs": [
    {
     "name": "stdout",
     "output_type": "stream",
     "text": [
      "rise to vote sir\n",
      "ris etov ot esir\n",
      "rise to vote sir\n",
      "ris etov ot esir\n"
     ]
    }
   ],
   "source": [
    "print(input()[::-1])\n",
    "\n",
    "#OR\n",
    "s = input()\n",
    "print(''.join(reversed(s)))\n",
    "\n",
    "#OR using list comprehension\n",
    "\n",
    "text = input(\"Input a string:\")\n",
    "lst=list(text.split(\" \"))\n",
    "\n",
    "lst_reverse = [x[::-1] for x in lst[::-1]]\n",
    "\n",
    "\" \".join(lst_reverse)"
   ]
  },
  {
   "cell_type": "markdown",
   "id": "84913529",
   "metadata": {},
   "source": [
    "### Question 92\n",
    "Please write a program which accepts a string from console and print the characters that have even indexes.\n",
    "\n",
    "Example: If the following string is given as input to the program: H1e2l3l4o5w6o7r8l9d  \n",
    "Then, the output of the program should be: Helloworld\n",
    "\n",
    "Hints Use list[::2] to iterate a list by step 2."
   ]
  },
  {
   "cell_type": "code",
   "execution_count": 18,
   "id": "3717a981",
   "metadata": {},
   "outputs": [
    {
     "name": "stdout",
     "output_type": "stream",
     "text": [
      "H1e2l3l4o5w6o7r8l9d\n",
      "Helloworld\n",
      "\n",
      "H1e2l3l4o5w6o7r8l9d\n",
      "Helloworld\n"
     ]
    }
   ],
   "source": [
    "s = [v for i,v in enumerate(input()) if i%2==0]\n",
    "print(''.join(s))\n",
    "\n",
    "print()\n",
    "#OR\n",
    "\n",
    "print(input()[::2])"
   ]
  },
  {
   "cell_type": "markdown",
   "id": "6c0515ac",
   "metadata": {},
   "source": [
    "### Question 93\n",
    "Please write a program which prints all permutations of [1,2,3]\n",
    "\n",
    "Hints\n",
    "Use itertools.permutations() to get permutations of list."
   ]
  },
  {
   "cell_type": "code",
   "execution_count": 23,
   "id": "72232f78",
   "metadata": {},
   "outputs": [
    {
     "data": {
      "text/plain": [
       "[(1, 2, 3), (1, 3, 2), (2, 1, 3), (2, 3, 1), (3, 1, 2), (3, 2, 1)]"
      ]
     },
     "execution_count": 23,
     "metadata": {},
     "output_type": "execute_result"
    }
   ],
   "source": [
    "import itertools\n",
    "\n",
    "list(itertools.permutations([1,2,3]))"
   ]
  },
  {
   "cell_type": "markdown",
   "id": "cfce531c",
   "metadata": {},
   "source": [
    "### Question 94\n",
    "Write a program to solve a classic ancient Chinese puzzle: We count 35 heads and 94 legs among the chickens and rabbits in a farm. How many rabbits and how many chickens do we have?"
   ]
  },
  {
   "cell_type": "code",
   "execution_count": 28,
   "id": "e1c1920f",
   "metadata": {},
   "outputs": [
    {
     "data": {
      "text/plain": [
       "'No of Chickens and rabbits are 23 & 12'"
      ]
     },
     "execution_count": 28,
     "metadata": {},
     "output_type": "execute_result"
    }
   ],
   "source": [
    "def sol(nheads, nlegs):\n",
    "    \n",
    "    for i in range(nheads+1):\n",
    "        j = nheads - i\n",
    "        if 2*i + 4*j == nlegs:\n",
    "            return f'No of Chickens and rabbits are {i} & {j}'\n",
    "    \n",
    "sol(35,94)\n"
   ]
  },
  {
   "cell_type": "markdown",
   "id": "a7fcdd84",
   "metadata": {},
   "source": [
    "### Question 95\n",
    "Given the participants' score sheet for your University Sports Day, you are required to find the runner-up score. You are given scores. Store them in a list and find the score of the runner-up.\n",
    "\n",
    "If the following string is given as input to the program:\n",
    "5\n",
    "2 3 6 6 5\n",
    "\n",
    "Then, the output of the program should be: 5\n",
    "\n",
    "Hints : Make the scores unique and then find 2nd best number"
   ]
  },
  {
   "cell_type": "code",
   "execution_count": 38,
   "id": "eb8a3934",
   "metadata": {},
   "outputs": [
    {
     "name": "stdout",
     "output_type": "stream",
     "text": [
      "5 2 3 6 6 5\n",
      "5\n"
     ]
    }
   ],
   "source": [
    "l = [int(i) for i in input().split()]  #splitting the input string into individual list elements\n",
    "l = sorted(l)\n",
    "print(list(set(l))[-2])     #finding the second best i.e runner-up score"
   ]
  },
  {
   "cell_type": "markdown",
   "id": "1cbda7df",
   "metadata": {},
   "source": [
    "### Question 96\n",
    "You are given a string S and width W. Your task is to wrap the string into a paragraph of width.\n",
    "\n",
    "If the following string is given as input to the program: ABCDEFGHIJKLIMNOQRSTUVWXYZ 4  \n",
    "Then, the output of the program should be:  \n",
    "ABCD  \n",
    "EFGH  \n",
    "IJKL  \n",
    "IMNO  \n",
    "QRST  \n",
    "UVWX  \n",
    "YZ\n",
    "\n",
    "Hints : Use wrap function of textwrap module"
   ]
  },
  {
   "cell_type": "code",
   "execution_count": 56,
   "id": "8e7751ba",
   "metadata": {},
   "outputs": [
    {
     "name": "stdout",
     "output_type": "stream",
     "text": [
      "ABCD\n",
      "EFGH\n",
      "IJKL\n",
      "IMNO\n",
      "QRST\n",
      "UVWX\n",
      "YZ\n"
     ]
    }
   ],
   "source": [
    "def wrapper(s, w):\n",
    "    start = 0\n",
    "    end   = 4\n",
    "    while start <= len(s):\n",
    "        print(s[start:end])\n",
    "        start = end\n",
    "        end  += 4\n",
    "        \n",
    "wrapper('ABCDEFGHIJKLIMNOQRSTUVWXYZ', 4)"
   ]
  },
  {
   "cell_type": "code",
   "execution_count": 61,
   "id": "6d7cb695",
   "metadata": {},
   "outputs": [
    {
     "name": "stdout",
     "output_type": "stream",
     "text": [
      "ABCD\n",
      "EFGH\n",
      "IJKL\n",
      "MNOP\n",
      "QRST\n",
      "UVWX\n",
      "YZ\n"
     ]
    }
   ],
   "source": [
    "#OR using textwrap module:\n",
    "\n",
    "import textwrap\n",
    "\n",
    "def txtwrap(string, width):\n",
    "    string = textwrap.wrap(string, width)\n",
    "    print('\\n'.join(string))\n",
    "    \n",
    "txtwrap('ABCDEFGHIJKLMNOPQRSTUVWXYZ',4)"
   ]
  },
  {
   "cell_type": "markdown",
   "id": "4c5ba098",
   "metadata": {},
   "source": [
    "### Question 97\n",
    "You are given an integer, N. Your task is to print an alphabet rangoli of size N. (Rangoli is a form of Indian folk art based on creation of patterns.)\n",
    "\n",
    "Different sizes of alphabet rangoli are shown below:\n",
    "\n",
    "#size 3\n",
    "\n",
    "----c----  \n",
    "--c-b-c--  \n",
    "c-b-a-b-c  \n",
    "--c-b-c--  \n",
    "----c----  \n",
    "\n",
    "#size 5\n",
    "\n",
    "--------e--------  \n",
    "------e-d-e------  \n",
    "----e-d-c-d-e----  \n",
    "--e-d-c-b-c-d-e--  \n",
    "e-d-c-b-a-b-c-d-e  \n",
    "--e-d-c-b-c-d-e--  \n",
    "----e-d-c-d-e----  \n",
    "------e-d-e------  \n",
    "--------e--------  \n",
    "\n",
    "Hints: First print the half of the Rangoli in the given way and save each line in a list. Then print the list in reverse order to get the rest."
   ]
  },
  {
   "cell_type": "code",
   "execution_count": 121,
   "id": "c2887cc8",
   "metadata": {},
   "outputs": [
    {
     "name": "stdout",
     "output_type": "stream",
     "text": [
      "10\n",
      "------------------j------------------\n",
      "----------------j-i-j----------------\n",
      "--------------j-i-h-i-j--------------\n",
      "------------j-i-h-g-h-i-j------------\n",
      "----------j-i-h-g-f-g-h-i-j----------\n",
      "--------j-i-h-g-f-e-f-g-h-i-j--------\n",
      "------j-i-h-g-f-e-d-e-f-g-h-i-j------\n",
      "----j-i-h-g-f-e-d-c-d-e-f-g-h-i-j----\n",
      "--j-i-h-g-f-e-d-c-b-c-d-e-f-g-h-i-j--\n",
      "j-i-h-g-f-e-d-c-b-a-b-c-d-e-f-g-h-i-j\n",
      "--j-i-h-g-f-e-d-c-b-c-d-e-f-g-h-i-j--\n",
      "----j-i-h-g-f-e-d-c-d-e-f-g-h-i-j----\n",
      "------j-i-h-g-f-e-d-e-f-g-h-i-j------\n",
      "--------j-i-h-g-f-e-f-g-h-i-j--------\n",
      "----------j-i-h-g-f-g-h-i-j----------\n",
      "------------j-i-h-g-h-i-j------------\n",
      "--------------j-i-h-i-j--------------\n",
      "----------------j-i-j----------------\n",
      "------------------j------------------\n"
     ]
    }
   ],
   "source": [
    "import string\n",
    "def print_rangoli(size):\n",
    "    n = size\n",
    "    alph = string.ascii_lowercase\n",
    "    width = 4 * n - 3\n",
    "\n",
    "    ans = []\n",
    "    for i in range(n):\n",
    "        left = '-'.join(alph[n - i - 1:n])\n",
    "        mid = left[-1:0:-1] + left\n",
    "        final = mid.center(width, '-')\n",
    "        ans.append(final)\n",
    "\n",
    "    if len(ans) > 1:\n",
    "        for i in ans[n - 2::-1]:\n",
    "            ans.append(i)\n",
    "    ans = '\\n'.join(ans)\n",
    "    print(ans)\n",
    "\n",
    "\n",
    "if __name__ == '__main__':\n",
    "    n = int(input())\n",
    "    print_rangoli(n)"
   ]
  },
  {
   "cell_type": "markdown",
   "id": "8419e16b",
   "metadata": {},
   "source": [
    "### Question 98\n",
    "You are given a date. Your task is to find what the day is on that date.\n",
    "\n",
    "Input:  \n",
    "A single line of input containing the space separated month, day and year, respectively, in MM DD YYYY format.  \n",
    "08 05 2015\n",
    "\n",
    "Output:  \n",
    "Output the correct day in capital letters.  \n",
    "WEDNESDAY"
   ]
  },
  {
   "cell_type": "code",
   "execution_count": 90,
   "id": "fdd6a26d",
   "metadata": {},
   "outputs": [
    {
     "name": "stdout",
     "output_type": "stream",
     "text": [
      "08 05 2015\n",
      "WEDNESDAY\n",
      "\n",
      "08 05 2015\n",
      "WEDNESDAY\n"
     ]
    }
   ],
   "source": [
    "import datetime\n",
    "\n",
    "date = [i for i in input().split(' ')]\n",
    "date = '-'.join(date)\n",
    "date = pd.to_datetime(date)\n",
    "\n",
    "print(date.strftime('%A').upper())\n",
    "\n",
    "print()\n",
    "## or using calendar module\n",
    "import calendar\n",
    "\n",
    "month,day,year = map(int, input().split())\n",
    "dayId = calendar.weekday(year, month, day)\n",
    "print(calendar.day_name[dayId].upper())"
   ]
  },
  {
   "cell_type": "markdown",
   "id": "36fae17b",
   "metadata": {},
   "source": [
    "### Question 99\n",
    "\n",
    "print the difference in elements in two lists in ascending order\n",
    "\n",
    "Input :  \n",
    "2 4 5 9    \n",
    "\n",
    "2 4 11 12  \n",
    "\n",
    "Output :  \n",
    "5 \n",
    "\n",
    "9  \n",
    "\n",
    "11\n",
    "\n",
    "12  \n",
    "\n",
    "Hints : use \\'^\\' to make symmetric difference operation."
   ]
  },
  {
   "cell_type": "code",
   "execution_count": 123,
   "id": "423a5557",
   "metadata": {},
   "outputs": [
    {
     "name": "stdout",
     "output_type": "stream",
     "text": [
      "2 4 5 9\n",
      "2 4 11 12\n",
      "\n",
      "5\n",
      "9\n",
      "11\n",
      "12\n"
     ]
    }
   ],
   "source": [
    "import random\n",
    "\n",
    "l1 = set(map(int, input().split()))\n",
    "\n",
    "l2 = set(map(int, input().split()))\n",
    "\n",
    "res = l1 ^ l2\n",
    "res = [str(i) for i in res]\n",
    "\n",
    "print()\n",
    "print('\\n'.join(res))"
   ]
  },
  {
   "cell_type": "markdown",
   "id": "a96d189f",
   "metadata": {},
   "source": [
    "### Question 100\n",
    "You are given words. Some words may repeat. For each word, output its number of occurrences. The output order should correspond with the input order of appearance of the word. See the sample input/output for clarification.\n",
    "\n",
    "If the following string is given as input to the program:  \n",
    "hi  \n",
    "hello  \n",
    "hello  \n",
    "bye\n",
    "\n",
    "Then, the output of the program should be:  \n",
    "1  \n",
    "\n",
    "2  \n",
    "\n",
    "1  \n",
    "\n",
    "Hints\n",
    "Make a list to get the input order and a dictionary to count the word frequency"
   ]
  },
  {
   "cell_type": "code",
   "execution_count": 95,
   "id": "0f1038e7",
   "metadata": {},
   "outputs": [
    {
     "name": "stdout",
     "output_type": "stream",
     "text": [
      "4\n",
      "hi\n",
      "hello\n",
      "hello\n",
      "bye\n",
      "\n",
      "length of dict is 3\n",
      "1\n",
      "2\n",
      "1\n"
     ]
    }
   ],
   "source": [
    "n = int(input())\n",
    "word_list = []\n",
    "\n",
    "for i in range(n):\n",
    "    word = input()\n",
    "    word_list.append(word)\n",
    "\n",
    "dict = {word : word_list.count(word) for word in word_list}\n",
    "\n",
    "print()\n",
    "print('length of dict is',len(dict))\n",
    "for i in dict:\n",
    "    print(dict[i] , end = '\\n')"
   ]
  }
 ],
 "metadata": {
  "kernelspec": {
   "display_name": "Python 3 (ipykernel)",
   "language": "python",
   "name": "python3"
  },
  "language_info": {
   "codemirror_mode": {
    "name": "ipython",
    "version": 3
   },
   "file_extension": ".py",
   "mimetype": "text/x-python",
   "name": "python",
   "nbconvert_exporter": "python",
   "pygments_lexer": "ipython3",
   "version": "3.9.7"
  }
 },
 "nbformat": 4,
 "nbformat_minor": 5
}
