{
 "cells": [
  {
   "cell_type": "code",
   "execution_count": 1,
   "id": "19d3ea09",
   "metadata": {},
   "outputs": [],
   "source": [
    "import pandas as pd\n",
    "import numpy as np"
   ]
  },
  {
   "cell_type": "markdown",
   "id": "d5302550",
   "metadata": {},
   "source": [
    "### Question 41\n",
    "Write a program which can map() to make a list whose elements are square of elements in [1,2,3,4,5,6,7,8,9,10]."
   ]
  },
  {
   "cell_type": "code",
   "execution_count": 27,
   "id": "551d0b2c",
   "metadata": {},
   "outputs": [
    {
     "name": "stdout",
     "output_type": "stream",
     "text": [
      "[1, 4, 9, 16, 25, 36, 49, 64, 81, 100]\n"
     ]
    }
   ],
   "source": [
    "l = [i for i in range(1,11)]\n",
    "\n",
    "square = lambda x : x*x             #function which calculates the squares\n",
    "\n",
    "squares = list(map(square, l))     #maps square function on each element of list\n",
    "print(squares)"
   ]
  },
  {
   "cell_type": "markdown",
   "id": "4478630b",
   "metadata": {},
   "source": [
    "### Question 42\n",
    "Write a program which can map() and filter() to make a list whose elements are square of even number in [1,2,3,4,5,6,7,8,9,10]"
   ]
  },
  {
   "cell_type": "code",
   "execution_count": 36,
   "id": "cd974cb0",
   "metadata": {},
   "outputs": [
    {
     "name": "stdout",
     "output_type": "stream",
     "text": [
      "[4, 16, 36, 64, 100]\n"
     ]
    }
   ],
   "source": [
    "l = [i for i in range(1,11)]\n",
    "\n",
    "even = filter(lambda x: x%2==0, l)  #filtering out even numbers\n",
    "\n",
    "square = lambda x: x*x              #function which calculates squares\n",
    "\n",
    "squares = list(map(square , even))  #maps the square function on each element of l\n",
    "\n",
    "print(squares)"
   ]
  },
  {
   "cell_type": "markdown",
   "id": "648a8cb8",
   "metadata": {},
   "source": [
    "### Question 43\n",
    "Write a program which can filter() to make a list whose elements are even number between 1 and 20 (both included)."
   ]
  },
  {
   "cell_type": "code",
   "execution_count": 37,
   "id": "42664f92",
   "metadata": {},
   "outputs": [
    {
     "name": "stdout",
     "output_type": "stream",
     "text": [
      "[2, 4, 6, 8, 10, 12, 14, 16, 18, 20]\n"
     ]
    }
   ],
   "source": [
    "l = [x for x in range(1,21)]\n",
    "\n",
    "even = list(filter(lambda x : x%2==0, l))\n",
    "print(even)"
   ]
  },
  {
   "cell_type": "markdown",
   "id": "9c6e95d1",
   "metadata": {},
   "source": [
    "### Question 44\n",
    "Write a program which can map() to make a list whose elements are square of even numbers between 1 and 20 (both included)."
   ]
  },
  {
   "cell_type": "code",
   "execution_count": 38,
   "id": "c1d01654",
   "metadata": {},
   "outputs": [
    {
     "name": "stdout",
     "output_type": "stream",
     "text": [
      "[4, 16, 36, 64, 100, 144, 196, 256, 324, 400]\n"
     ]
    }
   ],
   "source": [
    "l = [x for x in range(1,21)]\n",
    "\n",
    "squares = list(map(lambda x:x*x , filter(lambda x:x%2==0, l)))\n",
    "print(squares)"
   ]
  },
  {
   "cell_type": "markdown",
   "id": "83a02ff8",
   "metadata": {},
   "source": [
    "### Question 45\n",
    "Define a class named Indian which has a static method called printNationality."
   ]
  },
  {
   "cell_type": "code",
   "execution_count": 45,
   "id": "8065331e",
   "metadata": {},
   "outputs": [
    {
     "name": "stdout",
     "output_type": "stream",
     "text": [
      "I am Indian!\n"
     ]
    }
   ],
   "source": [
    "class Indian():\n",
    "    @staticmethod\n",
    "    def printNationality():\n",
    "        print('I am Indian!')\n",
    "        \n",
    "me = Indian()\n",
    "me.printNationality() #this will not run if @staticmethod is not decorated before printNationality()"
   ]
  },
  {
   "cell_type": "code",
   "execution_count": 51,
   "id": "115b745c",
   "metadata": {},
   "outputs": [
    {
     "name": "stdout",
     "output_type": "stream",
     "text": [
      "I am Indian!\n"
     ]
    }
   ],
   "source": [
    "class Indian():\n",
    "    def printNationality():\n",
    "        print('I am Indian!')\n",
    "\n",
    "Indian.printNationality() #this will run even if @staticmethod is not decorated before printNationality()"
   ]
  },
  {
   "cell_type": "markdown",
   "id": "8509d444",
   "metadata": {},
   "source": [
    "### Question 46\n",
    "Define a class named Indian and its subclass Mumbaikar."
   ]
  },
  {
   "cell_type": "code",
   "execution_count": 60,
   "id": "f512d7ff",
   "metadata": {},
   "outputs": [
    {
     "name": "stdout",
     "output_type": "stream",
     "text": [
      "hello i am Indian!\n",
      "Hello i am from Mumbai\n"
     ]
    }
   ],
   "source": [
    "class Indian():\n",
    "    print('hello i am Indian!')\n",
    "\n",
    "class Mumbaikar(Indian):\n",
    "    print('Hello i am from Mumbai')\n",
    "\n",
    "indian = Indian()\n",
    "mumbaikar = Mumbaikar()"
   ]
  },
  {
   "cell_type": "markdown",
   "id": "c7a097e8",
   "metadata": {},
   "source": [
    "### Question 47\n",
    "Define a class named Circle which can be constructed by a radius. The Circle class has a method which can compute the area."
   ]
  },
  {
   "cell_type": "code",
   "execution_count": 65,
   "id": "1ff6ebbf",
   "metadata": {},
   "outputs": [
    {
     "data": {
      "text/plain": [
       "28.274333882308138"
      ]
     },
     "execution_count": 65,
     "metadata": {},
     "output_type": "execute_result"
    }
   ],
   "source": [
    "class Circle():\n",
    "    \n",
    "    def __init__(self, r):\n",
    "        self.r = r\n",
    "        \n",
    "    def area(self):\n",
    "        return np.pi * (self.r**2)\n",
    "    \n",
    "c = Circle(3)\n",
    "c.area()"
   ]
  },
  {
   "cell_type": "markdown",
   "id": "d83e9b80",
   "metadata": {},
   "source": [
    "### Question 48\n",
    "Define a class named Rectangle which can be constructed by a length and width.  \n",
    "The Rectangle class has a method which can compute the area"
   ]
  },
  {
   "cell_type": "code",
   "execution_count": 68,
   "id": "7d7fe6c0",
   "metadata": {},
   "outputs": [
    {
     "data": {
      "text/plain": [
       "4"
      ]
     },
     "execution_count": 68,
     "metadata": {},
     "output_type": "execute_result"
    }
   ],
   "source": [
    "class Rectangle():\n",
    "    \n",
    "    def __init__(self, length, width):\n",
    "        self.width = width\n",
    "        self.length = length\n",
    "        \n",
    "    def area(self):\n",
    "        return (self.length * self.width)\n",
    "    \n",
    "r = Rectangle(2,2)\n",
    "r.area()"
   ]
  },
  {
   "cell_type": "markdown",
   "id": "8dc1c09c",
   "metadata": {},
   "source": [
    "### Question 49\n",
    "Define a class named Shape and its subclass Square. The Square class has an init function which takes a length as argument. Both classes have a area function which can print the area of the shape where Shape's area is 0 by default."
   ]
  },
  {
   "cell_type": "code",
   "execution_count": 94,
   "id": "773c6728",
   "metadata": {},
   "outputs": [
    {
     "name": "stdout",
     "output_type": "stream",
     "text": [
      "9\n",
      "0\n"
     ]
    }
   ],
   "source": [
    "class Shape():\n",
    "    \n",
    "    def __init__(self):\n",
    "        pass\n",
    "    \n",
    "    def area(self):\n",
    "        return 0\n",
    "\n",
    "class Square(Shape):\n",
    "    \n",
    "    def __init__(self, length = 0):          #setting default length to 0\n",
    "        self.length = length\n",
    "        \n",
    "    def area(self):\n",
    "        return self.length * self.length\n",
    "        \n",
    "a = Square(3)\n",
    "print(a.area())\n",
    "\n",
    "b = Shape()\n",
    "print(b.area())"
   ]
  },
  {
   "cell_type": "markdown",
   "id": "7db98b58",
   "metadata": {},
   "source": [
    "### Question 50\n",
    "Please raise a RuntimeError exception."
   ]
  },
  {
   "cell_type": "code",
   "execution_count": 90,
   "id": "426366b1",
   "metadata": {},
   "outputs": [
    {
     "ename": "RuntimeError",
     "evalue": "You have raised a RuntimeError!!!",
     "output_type": "error",
     "traceback": [
      "\u001b[1;31m---------------------------------------------------------------------------\u001b[0m",
      "\u001b[1;31mRuntimeError\u001b[0m                              Traceback (most recent call last)",
      "\u001b[1;32m~\\AppData\\Local\\Temp/ipykernel_18068/2131229152.py\u001b[0m in \u001b[0;36m<module>\u001b[1;34m\u001b[0m\n\u001b[1;32m----> 1\u001b[1;33m \u001b[1;32mraise\u001b[0m \u001b[0mRuntimeError\u001b[0m\u001b[1;33m(\u001b[0m\u001b[1;34m'You have raised a RuntimeError!!!'\u001b[0m\u001b[1;33m)\u001b[0m\u001b[1;33m\u001b[0m\u001b[1;33m\u001b[0m\u001b[0m\n\u001b[0m",
      "\u001b[1;31mRuntimeError\u001b[0m: You have raised a RuntimeError!!!"
     ]
    }
   ],
   "source": [
    "raise RuntimeError('You have raised a RuntimeError!!!')"
   ]
  },
  {
   "cell_type": "code",
   "execution_count": null,
   "id": "cfdf4b3c",
   "metadata": {},
   "outputs": [],
   "source": []
  }
 ],
 "metadata": {
  "kernelspec": {
   "display_name": "Python 3 (ipykernel)",
   "language": "python",
   "name": "python3"
  },
  "language_info": {
   "codemirror_mode": {
    "name": "ipython",
    "version": 3
   },
   "file_extension": ".py",
   "mimetype": "text/x-python",
   "name": "python",
   "nbconvert_exporter": "python",
   "pygments_lexer": "ipython3",
   "version": "3.9.7"
  }
 },
 "nbformat": 4,
 "nbformat_minor": 5
}
