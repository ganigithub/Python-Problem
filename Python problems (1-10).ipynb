{
 "cells": [
  {
   "cell_type": "code",
   "execution_count": 1,
   "id": "4b939b51",
   "metadata": {},
   "outputs": [],
   "source": [
    "import pandas as pd\n",
    "import numpy as np"
   ]
  },
  {
   "cell_type": "markdown",
   "id": "533d1521",
   "metadata": {},
   "source": [
    "### Question 1\n",
    " Write a program which will find all such numbers which are divisible by 7 but are not a multiple of 5,\n",
    " between 2000 and 3200 (both included). The numbers obtained should be printed in a comma-separated sequence on a single line.\n"
   ]
  },
  {
   "cell_type": "code",
   "execution_count": 1,
   "id": "08190cfa",
   "metadata": {},
   "outputs": [
    {
     "name": "stdout",
     "output_type": "stream",
     "text": [
      "2002,2009,2016,2023,2037,2044,2051,2058,2072,2079,2086,2093,2107,2114,2121,2128,2142,2149,2156,2163,2177,2184,2191,2198,2212,2219,2226,2233,2247,2254,2261,2268,2282,2289,2296,2303,2317,2324,2331,2338,2352,2359,2366,2373,2387,2394,2401,2408,2422,2429,2436,2443,2457,2464,2471,2478,2492,2499,2506,2513,2527,2534,2541,2548,2562,2569,2576,2583,2597,2604,2611,2618,2632,2639,2646,2653,2667,2674,2681,2688,2702,2709,2716,2723,2737,2744,2751,2758,2772,2779,2786,2793,2807,2814,2821,2828,2842,2849,2856,2863,2877,2884,2891,2898,2912,2919,2926,2933,2947,2954,2961,2968,2982,2989,2996,3003,3017,3024,3031,3038,3052,3059,3066,3073,3087,3094,3101,3108,3122,3129,3136,3143,3157,3164,3171,3178,3192,3199\n"
     ]
    }
   ],
   "source": [
    "l = []\n",
    "for i in range(2000, 3201):\n",
    "    if i % 7 == 0 and i % 5 != 0:\n",
    "        l.append(str(i))\n",
    "        \n",
    "print(','.join(l))"
   ]
  },
  {
   "cell_type": "markdown",
   "id": "fe1c42d8",
   "metadata": {},
   "source": [
    "### Question 2\n",
    "\n",
    "Write a program which can compute the factorial of a given numbers. The results should be printed in a csv on a single line.\n",
    "Suppose the following input is supplied to the program: 8 Then, the output should be: 40320\n",
    "\n",
    "Hints: In case of input data being supplied to the question, it should be assumed to be a console input."
   ]
  },
  {
   "cell_type": "code",
   "execution_count": 2,
   "id": "3f4e5a05",
   "metadata": {},
   "outputs": [
    {
     "name": "stdout",
     "output_type": "stream",
     "text": [
      "5\n",
      "120\n"
     ]
    }
   ],
   "source": [
    "def factorial(x):\n",
    "    if x == 0:\n",
    "        return 1\n",
    "    return x * factorial(x-1)\n",
    "\n",
    "x = int(input())\n",
    "print(factorial(x))\n",
    "\n",
    "#or\n",
    "\n",
    "# import math as ma\n",
    "\n",
    "# from functools import reduce\n",
    "# from operator import mul\n",
    "\n",
    "# x=int(input())\n",
    "# print(reduce(mul,range(1,x+1)))\n",
    "\n",
    "# x=int(input())\n",
    "# print(ma.factorial(x))"
   ]
  },
  {
   "cell_type": "markdown",
   "id": "1e37439f",
   "metadata": {},
   "source": [
    "### Question 3\n",
    "\n",
    "With a given integral number n, write a program to generate a dictionary that contains (i, i*i)\n",
    "such that is an integral number between 1 and n (both included). and then the program should print the dictionary. \n",
    "\n",
    "Suppose the following input is supplied to the program: 8 Then, \n",
    "the output should be: {1: 1, 2: 4, 3: 9, 4: 16, 5: 25, 6: 36, 7: 49, 8: 64}\n",
    "\n",
    "Hints: In case of input data being supplied to the question, it should be assumed to be a console input. Consider use dict()"
   ]
  },
  {
   "cell_type": "code",
   "execution_count": 3,
   "id": "c361ed5c",
   "metadata": {},
   "outputs": [
    {
     "name": "stdout",
     "output_type": "stream",
     "text": [
      "5\n",
      "{1: 1, 2: 4, 3: 9, 4: 16, 5: 25}\n"
     ]
    }
   ],
   "source": [
    "x = int(input())\n",
    "d = dict()\n",
    "\n",
    "\n",
    "for i in range(1, x+1):\n",
    "    d[i] = i * i\n",
    "    \n",
    "print(d)"
   ]
  },
  {
   "cell_type": "markdown",
   "id": "ec217b6d",
   "metadata": {},
   "source": [
    "### Question 4\n",
    "\n",
    "Write a program which accepts a sequence of comma-separated numbers from console and generate a list and a tuple which\n",
    "contains every number. Suppose the following input is supplied to the program: 34,67,55,33,12,98 Then,\n",
    "the output should be:\n",
    "\n",
    "['34', '67', '55', '33', '12', '98'] ('34', '67', '55', '33', '12', '98')\n",
    "\n",
    "Hints: In case of input data being supplied to the question, it should be assumed to be a console input.\n",
    "tuple() method can convert list to tuple"
   ]
  },
  {
   "cell_type": "code",
   "execution_count": 21,
   "id": "239463e5",
   "metadata": {},
   "outputs": [
    {
     "name": "stdout",
     "output_type": "stream",
     "text": [
      "54,898,54.7\n",
      "['54', '898', '54.7'] ('54', '898', '54.7')\n"
     ]
    }
   ],
   "source": [
    "x = input()\n",
    "y = x.split(',')\n",
    "\n",
    "print(y, tuple(y))"
   ]
  },
  {
   "cell_type": "markdown",
   "id": "4efe3e4f",
   "metadata": {},
   "source": [
    "### Question 5\n",
    "\n",
    "Define a class which has at least two methods: \n",
    "\n",
    "getString: to get a string from console input and\n",
    "\n",
    "printString: to print the string in upper case. Also please include simple test function to test the class methods.\n",
    "\n",
    "Hints: Use init method to construct some parameters"
   ]
  },
  {
   "cell_type": "code",
   "execution_count": 53,
   "id": "e95bc2d7",
   "metadata": {},
   "outputs": [
    {
     "name": "stdout",
     "output_type": "stream",
     "text": [
      "afdf\n",
      "AFDF\n"
     ]
    },
    {
     "data": {
      "text/plain": [
       "('afdf', 'New string')"
      ]
     },
     "execution_count": 53,
     "metadata": {},
     "output_type": "execute_result"
    }
   ],
   "source": [
    "class X:\n",
    "    def __init__(self):\n",
    "        self.x = ' '\n",
    "        \n",
    "    def getString(self):\n",
    "        self.x = input()\n",
    "    \n",
    "    def printString(self):\n",
    "        return self.x.upper()\n",
    "    \n",
    "    def StringAdder(self):\n",
    "        return self.x , 'New string'\n",
    "    \n",
    "x = X()\n",
    "x.getString()\n",
    "print(x.printString())\n",
    "x.StringAdder()"
   ]
  },
  {
   "cell_type": "markdown",
   "id": "e6d5d056",
   "metadata": {},
   "source": [
    "### Question 6\n",
    "\n",
    "Write a program that calculates and prints the value according to the given formula:\n",
    "Q = Square root of [(2 C D)/H]\n",
    "\n",
    "Following are the fixed values of C and H: C is 50. H is 30.\n",
    "D is the variable whose values should be input to your program in a comma-separated sequence.\n",
    "\n",
    "Example Let us assume the following comma separated input sequence is given to the program: 100,150,180\n",
    "\n",
    "The output of the program should be: 18,22,24\n",
    "\n",
    "Hints: If the output received is in decimal form, it should be rounded off to its nearest value\n",
    "In case of input data being supplied to the question, it should be assumed to be a console input."
   ]
  },
  {
   "cell_type": "code",
   "execution_count": 74,
   "id": "035d66f2",
   "metadata": {},
   "outputs": [
    {
     "name": "stdout",
     "output_type": "stream",
     "text": [
      "100,150,180\n",
      "18,22,24\n"
     ]
    }
   ],
   "source": [
    "c, h = 50,30\n",
    "\n",
    "d = input()\n",
    "op = []\n",
    "for i in d.split(','):\n",
    "#     print(int(i))\n",
    "    op.append(str((round(np.sqrt((2*c*int(i)) / h)))))\n",
    "    \n",
    "print(','.join(op))"
   ]
  },
  {
   "cell_type": "markdown",
   "id": "503929d8",
   "metadata": {},
   "source": [
    "### Question 7\n",
    "\n",
    "Write a program which takes 2 digits, X,Y as input and generates a 2-dimensional array. \n",
    "The element value in the i-th row and j-th column of the array should be i*j. \n",
    "\n",
    "\n",
    "Note: i=0,1.., X-1; j=0,1,¡­Y-1. Example Suppose the following inputs are given to the program: 3,5 Then,\n",
    "the output of the program should be: [[0, 0, 0, 0, 0], [0, 1, 2, 3, 4], [0, 2, 4, 6, 8]]\n",
    "\n",
    "Hints: In case of input data being supplied to the question, it should be assumed to be a console input in a commaseparated form."
   ]
  },
  {
   "cell_type": "code",
   "execution_count": 112,
   "id": "cdf4d641",
   "metadata": {},
   "outputs": [
    {
     "name": "stdout",
     "output_type": "stream",
     "text": [
      "3,5\n"
     ]
    },
    {
     "data": {
      "text/plain": [
       "[[0, 0, 0, 0, 0], [0, 1, 2, 3, 4], [0, 2, 4, 6, 8]]"
      ]
     },
     "execution_count": 112,
     "metadata": {},
     "output_type": "execute_result"
    }
   ],
   "source": [
    "str = input()\n",
    "value = [int(i) for i in str.split(',')]\n",
    "\n",
    "row, column = value[0], value[1]\n",
    "\n",
    "multilist = [[0 for col in range(column)] for row in range(row)]\n",
    "# multilist\n",
    "\n",
    "# multilist[1][1]\n",
    "\n",
    "for r in range(row):\n",
    "    for c in range(column):\n",
    "        multilist[r][c] = r*c\n",
    "multilist"
   ]
  },
  {
   "cell_type": "markdown",
   "id": "bfb60f9c",
   "metadata": {},
   "source": [
    "### Question 8\n",
    "\n",
    "Write a program that accepts a comma separated sequence of words as input and prints the words in a comma-separated sequence\n",
    "after sorting them alphabetically.Suppose the following input is supplied to the program: without,hello,bag,world\n",
    "\n",
    "Then, the output should be: bag,hello,without,world"
   ]
  },
  {
   "cell_type": "code",
   "execution_count": 25,
   "id": "581a13d3",
   "metadata": {},
   "outputs": [
    {
     "name": "stdout",
     "output_type": "stream",
     "text": [
      "without, hello, bag, world\n",
      " bag, hello, world,without\n"
     ]
    }
   ],
   "source": [
    "inp = input()\n",
    "words = inp.split(',')\n",
    "sort = sorted(words)\n",
    "print(','.join(sort))"
   ]
  },
  {
   "cell_type": "markdown",
   "id": "c4643159",
   "metadata": {},
   "source": [
    "### Question 9\n",
    "\n",
    "Write a program that accepts sequence of lines as input and prints the lines after making all characters in the sentence capitalized. Suppose the following input is supplied to the program:\n",
    "\n",
    "Hello world\n",
    "Practice makes perfect\n",
    "Then, the output should be:\n",
    "\n",
    "HELLO WORLD\n",
    "PRACTICE MAKES PERFECT\n",
    "\n",
    "Hints: In case of input data being supplied to the question, it should be assumed to be a console input."
   ]
  },
  {
   "cell_type": "code",
   "execution_count": 1,
   "id": "4b967066",
   "metadata": {},
   "outputs": [
    {
     "name": "stdout",
     "output_type": "stream",
     "text": [
      "hello world\n",
      "practive makes perfect\n",
      "HELLO WORLD\n",
      "PRACTIVE MAKES PERFECT\n"
     ]
    }
   ],
   "source": [
    "inp1 = input()\n",
    "inp2 = input()\n",
    "print(inp1.upper())\n",
    "print(inp2.upper())"
   ]
  },
  {
   "cell_type": "markdown",
   "id": "b730d32b",
   "metadata": {},
   "source": [
    "### Question 10\n",
    "\n",
    "Write a program that accepts a sequence of whitespace separated words as input and prints the words after removing all duplicate words and sorting them alphanumerically. Suppose the following input is supplied to the program:\n",
    "\n",
    "hello world and practice makes perfect and hello world again\n",
    "\n",
    "Then, the output should be:\n",
    "\n",
    "again and hello makes perfect practice world\n",
    "\n",
    "Hints: In case of input data being supplied to the question, it should be assumed to be a console input. We use set container to remove duplicated data automatically and then use sorted() to sort the data."
   ]
  },
  {
   "cell_type": "code",
   "execution_count": 52,
   "id": "192d79f0",
   "metadata": {},
   "outputs": [
    {
     "name": "stdout",
     "output_type": "stream",
     "text": [
      "hello world and practice makes perfect and hello world again\n",
      "again and hello makes perfect practice world\n"
     ]
    }
   ],
   "source": [
    "inp = input()\n",
    "\n",
    "words = set(inp.split(' '))\n",
    "\n",
    "print(' '.join(sorted(words)))"
   ]
  }
 ],
 "metadata": {
  "kernelspec": {
   "display_name": "Python 3 (ipykernel)",
   "language": "python",
   "name": "python3"
  },
  "language_info": {
   "codemirror_mode": {
    "name": "ipython",
    "version": 3
   },
   "file_extension": ".py",
   "mimetype": "text/x-python",
   "name": "python",
   "nbconvert_exporter": "python",
   "pygments_lexer": "ipython3",
   "version": "3.9.7"
  }
 },
 "nbformat": 4,
 "nbformat_minor": 5
}
