{
 "cells": [
  {
   "cell_type": "markdown",
   "id": "68045557",
   "metadata": {},
   "source": [
    "### Question 31\n",
    "Define a function which can print a dictionary where the keys are numbers between 1 and 20 (both included) and the values are square of keys."
   ]
  },
  {
   "cell_type": "code",
   "execution_count": 5,
   "id": "f7ce6662",
   "metadata": {},
   "outputs": [
    {
     "name": "stdout",
     "output_type": "stream",
     "text": [
      "{0: 0, 1: 1, 2: 4, 3: 9, 4: 16, 5: 25, 6: 36, 7: 49, 8: 64, 9: 81, 10: 100, 11: 121, 12: 144, 13: 169, 14: 196, 15: 225, 16: 256, 17: 289, 18: 324, 19: 361, 20: 400}\n"
     ]
    }
   ],
   "source": [
    "def squares():\n",
    "    dict = {i:i*i for i in range(21)}\n",
    "    print(dict)\n",
    "    \n",
    "squares()"
   ]
  },
  {
   "cell_type": "markdown",
   "id": "50c5baea",
   "metadata": {},
   "source": [
    "### Question 32\n",
    "Define a function which can generate a dictionary where the keys are numbers between 1 and 20 (both included) and the values are square of keys. The function should just print the keys only."
   ]
  },
  {
   "cell_type": "code",
   "execution_count": 6,
   "id": "8e80df2c",
   "metadata": {},
   "outputs": [
    {
     "name": "stdout",
     "output_type": "stream",
     "text": [
      "dict_keys([0, 1, 2, 3, 4, 5, 6, 7, 8, 9, 10, 11, 12, 13, 14, 15, 16, 17, 18, 19, 20])\n"
     ]
    }
   ],
   "source": [
    "def squares():\n",
    "    dict = {i : i*i for i in range(21)}\n",
    "    print(dict.keys())\n",
    "    \n",
    "squares()"
   ]
  },
  {
   "cell_type": "markdown",
   "id": "2d128c12",
   "metadata": {},
   "source": [
    "### Question 33\n",
    "Define a function which can generate and print a list where the values are square of numbers between 1 and 20 (both included)."
   ]
  },
  {
   "cell_type": "code",
   "execution_count": 8,
   "id": "d6599ce5",
   "metadata": {},
   "outputs": [
    {
     "name": "stdout",
     "output_type": "stream",
     "text": [
      "[0, 1, 4, 9, 16, 25, 36, 49, 64, 81, 100, 121, 144, 169, 196, 225, 256, 289, 324, 361, 400]\n"
     ]
    }
   ],
   "source": [
    "def squares():\n",
    "    squares = [i*i for i in range(21)]\n",
    "    print(squares)\n",
    "    \n",
    "squares()"
   ]
  },
  {
   "cell_type": "markdown",
   "id": "99072c56",
   "metadata": {},
   "source": [
    "### Question 34\n",
    "Define a function which can generate a list where the values are square of numbers between 1 and 20 (both included). Then the function needs to print the first 5 elements in the list."
   ]
  },
  {
   "cell_type": "code",
   "execution_count": 9,
   "id": "ba370cac",
   "metadata": {},
   "outputs": [
    {
     "name": "stdout",
     "output_type": "stream",
     "text": [
      "[0, 1, 4, 9, 16]\n"
     ]
    }
   ],
   "source": [
    "def squares():\n",
    "    list = [i*i for i in range(21)]\n",
    "    print(list[:5])\n",
    "    \n",
    "squares()"
   ]
  },
  {
   "cell_type": "markdown",
   "id": "29e51fbd",
   "metadata": {},
   "source": [
    "### Question 35\n",
    "Define a function which can generate a list where the values are square of numbers between 1 and 20 (both included). Then the function needs to print the last 5 elements in the list."
   ]
  },
  {
   "cell_type": "code",
   "execution_count": 12,
   "id": "b07a3999",
   "metadata": {},
   "outputs": [
    {
     "name": "stdout",
     "output_type": "stream",
     "text": [
      "[256, 289, 324, 361, 400]\n"
     ]
    }
   ],
   "source": [
    "def squares():\n",
    "    list = [i*i for i in range(21)]\n",
    "    print(list[-5:])\n",
    "    \n",
    "squares()"
   ]
  },
  {
   "cell_type": "markdown",
   "id": "5b469fc4",
   "metadata": {},
   "source": [
    "### Question 36\n",
    "Define a function which can generate a list where the values are square of numbers between 1 and 20 (both included). Then the function needs to print all values except the first 5 elements in the list."
   ]
  },
  {
   "cell_type": "code",
   "execution_count": 13,
   "id": "934240b1",
   "metadata": {},
   "outputs": [
    {
     "name": "stdout",
     "output_type": "stream",
     "text": [
      "[25, 36, 49, 64, 81, 100, 121, 144, 169, 196, 225, 256, 289, 324, 361, 400]\n"
     ]
    }
   ],
   "source": [
    "def squares():\n",
    "    list = [i*i for i in range(21)]\n",
    "    print(list[5:])\n",
    "    \n",
    "squares()"
   ]
  },
  {
   "cell_type": "markdown",
   "id": "97f311bc",
   "metadata": {},
   "source": [
    "### Question 37\n",
    "Define a function which can generate and print a tuple where the value are square of numbers between 1 and 20 (both included)."
   ]
  },
  {
   "cell_type": "code",
   "execution_count": 14,
   "id": "e6bbb30a",
   "metadata": {},
   "outputs": [
    {
     "name": "stdout",
     "output_type": "stream",
     "text": [
      "(0, 1, 4, 9, 16, 25, 36, 49, 64, 81, 100, 121, 144, 169, 196, 225, 256, 289, 324, 361, 400)\n"
     ]
    }
   ],
   "source": [
    "def squares():\n",
    "    list = [i*i for i in range(21)]\n",
    "    print(tuple(list))\n",
    "    \n",
    "squares()"
   ]
  },
  {
   "cell_type": "markdown",
   "id": "786fffee",
   "metadata": {},
   "source": [
    "### Question 38\n",
    "With a given tuple (1,2,3,4,5,6,7,8,9,10), write a program to print the first half values in one line and the last half values in one line."
   ]
  },
  {
   "cell_type": "code",
   "execution_count": 22,
   "id": "2bbbdd85",
   "metadata": {},
   "outputs": [
    {
     "name": "stdout",
     "output_type": "stream",
     "text": [
      "(1, 2, 3, 4, 5)\n",
      "(6, 7, 8, 9, 10)\n"
     ]
    }
   ],
   "source": [
    "tup = (1,2,3,4,5,6,7,8,9,10)\n",
    "\n",
    "print(tup[:5])\n",
    "print(tup[-5:])"
   ]
  },
  {
   "cell_type": "markdown",
   "id": "c8fe14a8",
   "metadata": {},
   "source": [
    "### Question 39\n",
    "Write a program to generate and print another tuple whose values are even numbers in the given tuple (1,2,3,4,5,6,7,8,9,10)."
   ]
  },
  {
   "cell_type": "code",
   "execution_count": 33,
   "id": "0d5b3bb8",
   "metadata": {},
   "outputs": [
    {
     "data": {
      "text/plain": [
       "(2, 4, 6, 8, 10)"
      ]
     },
     "execution_count": 33,
     "metadata": {},
     "output_type": "execute_result"
    }
   ],
   "source": [
    "tup = (1,2,3,4,5,6,7,8,9,10)\n",
    "\n",
    "tup1 = tuple(filter(lambda x: x%2==0, tup))\n",
    "tup1\n",
    "\n",
    "#OR\n",
    "\n",
    "tup1 = tuple(i for i in tup if i % 2 == 0)\n",
    "tup1"
   ]
  },
  {
   "cell_type": "markdown",
   "id": "71828229",
   "metadata": {},
   "source": [
    "### Question 40\n",
    "Write a program which accepts a string as input to print \"Yes\" if the string is \"yes\" or \"YES\" or \"Yes\", otherwise print \"No\"."
   ]
  },
  {
   "cell_type": "code",
   "execution_count": 42,
   "id": "493e0da9",
   "metadata": {},
   "outputs": [
    {
     "name": "stdout",
     "output_type": "stream",
     "text": [
      "Yes\n",
      "No\n",
      "No\n"
     ]
    }
   ],
   "source": [
    "def yesno(str):\n",
    "    if str == 'yes' or str == 'YES' or str == 'Yes':\n",
    "        print('Yes')\n",
    "    else: print('No')\n",
    "        \n",
    "yesno('Yes')\n",
    "yesno('YeS')\n",
    "yesno('No')"
   ]
  }
 ],
 "metadata": {
  "kernelspec": {
   "display_name": "Python 3 (ipykernel)",
   "language": "python",
   "name": "python3"
  },
  "language_info": {
   "codemirror_mode": {
    "name": "ipython",
    "version": 3
   },
   "file_extension": ".py",
   "mimetype": "text/x-python",
   "name": "python",
   "nbconvert_exporter": "python",
   "pygments_lexer": "ipython3",
   "version": "3.9.7"
  }
 },
 "nbformat": 4,
 "nbformat_minor": 5
}
