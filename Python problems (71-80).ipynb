{
 "cells": [
  {
   "cell_type": "code",
   "execution_count": 10,
   "id": "e7350718",
   "metadata": {},
   "outputs": [],
   "source": [
    "import pandas as pd\n",
    "import numpy as np"
   ]
  },
  {
   "cell_type": "markdown",
   "id": "91dd3cd8",
   "metadata": {},
   "source": [
    "### Question 71\n",
    "Please write a program to output a random number, which is divisible by 5 and 7, between 10 and 150 inclusive using random module and list comprehension."
   ]
  },
  {
   "cell_type": "code",
   "execution_count": 5,
   "id": "af66a895",
   "metadata": {},
   "outputs": [
    {
     "name": "stdout",
     "output_type": "stream",
     "text": [
      "70\n"
     ]
    },
    {
     "data": {
      "text/plain": [
       "[35, 70, 105, 140]"
      ]
     },
     "execution_count": 5,
     "metadata": {},
     "output_type": "execute_result"
    }
   ],
   "source": [
    "import random\n",
    "l = [i for i in range(10, 151) if i%35==0]\n",
    "\n",
    "print(random.choice(l))\n",
    "l"
   ]
  },
  {
   "cell_type": "markdown",
   "id": "8976e737",
   "metadata": {},
   "source": [
    "### Question 72\n",
    "Please write a program to generate a list with 5 random numbers between 100 and 200 inclusive."
   ]
  },
  {
   "cell_type": "code",
   "execution_count": 18,
   "id": "12f5d497",
   "metadata": {},
   "outputs": [
    {
     "data": {
      "text/plain": [
       "[165, 114, 197, 136, 125]"
      ]
     },
     "execution_count": 18,
     "metadata": {},
     "output_type": "execute_result"
    }
   ],
   "source": [
    "x = [random.choice(range(100,201)) for i in range(0,5)]\n",
    "x\n",
    "#OR\n",
    "random.sample(range(100,201),5)"
   ]
  },
  {
   "cell_type": "markdown",
   "id": "c9425748",
   "metadata": {},
   "source": [
    "### Question 73\n",
    "Please write a program to randomly generate a list with 5 even numbers between 100 and 200 inclusive."
   ]
  },
  {
   "cell_type": "code",
   "execution_count": 45,
   "id": "003ef51e",
   "metadata": {},
   "outputs": [
    {
     "data": {
      "text/plain": [
       "[190, 146, 104, 172, 156]"
      ]
     },
     "execution_count": 45,
     "metadata": {},
     "output_type": "execute_result"
    }
   ],
   "source": [
    "x = [i for i in range(100,201) if i%2==0]\n",
    "random.sample(x,5)\n",
    "\n",
    "#OR\n",
    "random.sample(range(100,201,2),5)  #this method will give 5 random even no's only when starting range itself is an even number."
   ]
  },
  {
   "cell_type": "markdown",
   "id": "565eb261",
   "metadata": {},
   "source": [
    "### Question 74\n",
    "Please write a program to randomly generate a list with 5 numbers, which are divisible by 5 and 7 , between 1 and 1000 inclusive."
   ]
  },
  {
   "cell_type": "code",
   "execution_count": 46,
   "id": "21d4d111",
   "metadata": {},
   "outputs": [
    {
     "data": {
      "text/plain": [
       "[630, 945, 490, 385, 875]"
      ]
     },
     "execution_count": 46,
     "metadata": {},
     "output_type": "execute_result"
    }
   ],
   "source": [
    "x = [i for i in range(1,1001) if i%35==0]\n",
    "random.sample(x, 5)"
   ]
  },
  {
   "cell_type": "markdown",
   "id": "d0832c2f",
   "metadata": {},
   "source": [
    "### Question 75\n",
    "Please write a program to randomly print a integer number between 7 and 15 inclusive."
   ]
  },
  {
   "cell_type": "code",
   "execution_count": 154,
   "id": "353b1b32",
   "metadata": {},
   "outputs": [
    {
     "data": {
      "text/plain": [
       "13"
      ]
     },
     "execution_count": 154,
     "metadata": {},
     "output_type": "execute_result"
    }
   ],
   "source": [
    "random.randrange(7,16)"
   ]
  },
  {
   "cell_type": "markdown",
   "id": "d677f621",
   "metadata": {},
   "source": [
    "### Question 76\n",
    "Please write a program to compress and decompress the string \"hello world!hello world!hello world!hello world!\".\n",
    "\n",
    "Use zlib.compress() and zlib.decompress() to compress and decompress a string."
   ]
  },
  {
   "cell_type": "code",
   "execution_count": 155,
   "id": "bb5235a8",
   "metadata": {},
   "outputs": [
    {
     "name": "stdout",
     "output_type": "stream",
     "text": [
      "b'x\\x9c\\xcbH\\xcd\\xc9\\xc9W(\\xcf/\\xcaIQ\\xcc \\x82\\r\\x00\\xbd[\\x11\\xf5'\n",
      "b'hello world!hello world!hello world!hello world!'\n"
     ]
    }
   ],
   "source": [
    "import zlib\n",
    "\n",
    "string = \"hello world!hello world!hello world!hello world!\".encode()\n",
    "comp = (zlib.compress(string))\n",
    "print(compress)\n",
    "\n",
    "print(zlib.decompress(comp))"
   ]
  },
  {
   "cell_type": "markdown",
   "id": "4a7ba3b8",
   "metadata": {},
   "source": [
    "### Question 77\n",
    "Please write a program to print the running time of execution of \"1+1\" for 100 times."
   ]
  },
  {
   "cell_type": "code",
   "execution_count": 95,
   "id": "cb99ff32",
   "metadata": {},
   "outputs": [
    {
     "data": {
      "text/plain": [
       "2.1529029000002993"
      ]
     },
     "execution_count": 95,
     "metadata": {},
     "output_type": "execute_result"
    }
   ],
   "source": [
    "from timeit import Timer\n",
    "t = Timer(\"for i in range(100):1+1\")\n",
    "t.timeit()"
   ]
  },
  {
   "cell_type": "markdown",
   "id": "e1bfc8ae",
   "metadata": {},
   "source": [
    "### Question 78\n",
    "Please write a program to shuffle and print the list [3,6,7,8].\n",
    "Use shuffle() function to shuffle a list."
   ]
  },
  {
   "cell_type": "code",
   "execution_count": 115,
   "id": "37625c6b",
   "metadata": {},
   "outputs": [
    {
     "name": "stdout",
     "output_type": "stream",
     "text": [
      "[3, 4, 1, 2]\n"
     ]
    },
    {
     "data": {
      "text/plain": [
       "[8, 6, 3, 7]"
      ]
     },
     "execution_count": 115,
     "metadata": {},
     "output_type": "execute_result"
    }
   ],
   "source": [
    "import random\n",
    "l = [1,2,3,4]\n",
    "random.shuffle(l)\n",
    "print(l)\n",
    "\n",
    "#OR\n",
    "# shuffle with a chosen seed\n",
    "l = [3,6,7,8]\n",
    "seed = 7\n",
    "random.Random(seed).shuffle(l)\n",
    "l"
   ]
  },
  {
   "cell_type": "markdown",
   "id": "1883c7b4",
   "metadata": {},
   "source": [
    "### Question 79\n",
    "Please write a program to generate all sentences where subject is in [\"I\", \"You\"] and verb is in [\"Play\", \"Love\"] and the object is in [\"Hockey\",\"Football\"]."
   ]
  },
  {
   "cell_type": "code",
   "execution_count": 134,
   "id": "f394ffc1",
   "metadata": {},
   "outputs": [
    {
     "name": "stdout",
     "output_type": "stream",
     "text": [
      "I Play Hockey\n",
      "I Play Football\n",
      "I Love Hockey\n",
      "I Love Football\n",
      "You Play Hockey\n",
      "You Play Football\n",
      "You Love Hockey\n",
      "You Love Football\n",
      "\n",
      "I Play Hockey\n",
      "I Play Football\n",
      "I Love Hockey\n",
      "I Love Football\n",
      "You Play Hockey\n",
      "You Play Football\n",
      "You Love Hockey\n",
      "You Love Football\n",
      "\n",
      "I Play Hockey\n",
      "I Play Football\n",
      "I Love Hockey\n",
      "I Love Football\n",
      "You Play Hockey\n",
      "You Play Football\n",
      "You Love Hockey\n",
      "You Love Football\n"
     ]
    }
   ],
   "source": [
    "subject = ['I','You']\n",
    "verb    = ['Play','Love']\n",
    "object  = ['Hockey','Football']\n",
    "\n",
    "for i in subject:\n",
    "    for j in verb:\n",
    "        for k in object:\n",
    "            print(i,j,k)\n",
    "\n",
    "print()\n",
    "#OR\n",
    "res = [[i,j,k] for i in subject for j in verb for k in object]\n",
    "for x in res: print(' '.join(x))\n",
    "\n",
    "print()\n",
    "#OR\n",
    "import itertools\n",
    "lst = [subject, verb, object]\n",
    "res = list(itertools.product(*lst))\n",
    "for x in res:\n",
    "    print(' '.join(x))"
   ]
  },
  {
   "cell_type": "markdown",
   "id": "2dc407fe",
   "metadata": {},
   "source": [
    "### Question 80\n",
    "Please write a program to print the list after removing even numbers in [5,6,77,45,22,12,24]."
   ]
  },
  {
   "cell_type": "code",
   "execution_count": 151,
   "id": "586808ff",
   "metadata": {},
   "outputs": [
    {
     "name": "stdout",
     "output_type": "stream",
     "text": [
      "[5, 77, 45]\n",
      "[5, 77, 45]\n"
     ]
    }
   ],
   "source": [
    "l = [5,6,77,45,22,12,24]\n",
    "print([i for i in l if i%2!=0])\n",
    "\n",
    "#or\n",
    "print(list(filter(lambda x : x%2 != 0,l)))"
   ]
  }
 ],
 "metadata": {
  "kernelspec": {
   "display_name": "Python 3 (ipykernel)",
   "language": "python",
   "name": "python3"
  },
  "language_info": {
   "codemirror_mode": {
    "name": "ipython",
    "version": 3
   },
   "file_extension": ".py",
   "mimetype": "text/x-python",
   "name": "python",
   "nbconvert_exporter": "python",
   "pygments_lexer": "ipython3",
   "version": "3.9.7"
  }
 },
 "nbformat": 4,
 "nbformat_minor": 5
}
