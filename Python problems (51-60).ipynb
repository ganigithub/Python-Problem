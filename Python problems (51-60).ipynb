{
 "cells": [
  {
   "cell_type": "markdown",
   "id": "0a5c6d99",
   "metadata": {},
   "source": [
    "### Question 51\n",
    "Write a function to compute 5/0 and use try/except to catch the exceptions."
   ]
  },
  {
   "cell_type": "code",
   "execution_count": 2,
   "id": "289f7b30",
   "metadata": {},
   "outputs": [
    {
     "name": "stdout",
     "output_type": "stream",
     "text": [
      "Why could you possibly divide something with Zero???\n"
     ]
    }
   ],
   "source": [
    "try:\n",
    "    print(5 / 0)\n",
    "    \n",
    "except ZeroDivisionError:\n",
    "    \n",
    "    print('Why could you possibly divide something with Zero???')"
   ]
  },
  {
   "cell_type": "markdown",
   "id": "81e6459a",
   "metadata": {},
   "source": [
    "### Question 52\n",
    "Define a custom exception class which takes a string message as attribute."
   ]
  },
  {
   "cell_type": "code",
   "execution_count": 12,
   "id": "fd59cf7e",
   "metadata": {
    "collapsed": true
   },
   "outputs": [
    {
     "name": "stdout",
     "output_type": "stream",
     "text": [
      "4\n"
     ]
    },
    {
     "ename": "TypeError",
     "evalue": "catching classes that do not inherit from BaseException is not allowed",
     "output_type": "error",
     "traceback": [
      "\u001b[1;31m---------------------------------------------------------------------------\u001b[0m",
      "\u001b[1;31mTypeError\u001b[0m                                 Traceback (most recent call last)",
      "\u001b[1;32m~\\AppData\\Local\\Temp/ipykernel_13288/2323260017.py\u001b[0m in \u001b[0;36m<module>\u001b[1;34m\u001b[0m\n\u001b[0;32m     11\u001b[0m     \u001b[1;32mif\u001b[0m \u001b[0mnum\u001b[0m \u001b[1;33m%\u001b[0m \u001b[1;36m2\u001b[0m \u001b[1;33m==\u001b[0m \u001b[1;36m0\u001b[0m\u001b[1;33m:\u001b[0m\u001b[1;33m\u001b[0m\u001b[1;33m\u001b[0m\u001b[0m\n\u001b[1;32m---> 12\u001b[1;33m         \u001b[1;32mraise\u001b[0m \u001b[0mCustomException\u001b[0m\u001b[1;33m(\u001b[0m\u001b[1;34m'Number is Even!'\u001b[0m\u001b[1;33m)\u001b[0m\u001b[1;33m\u001b[0m\u001b[1;33m\u001b[0m\u001b[0m\n\u001b[0m\u001b[0;32m     13\u001b[0m     \u001b[1;32melif\u001b[0m \u001b[0mnum\u001b[0m \u001b[1;33m%\u001b[0m \u001b[1;36m2\u001b[0m \u001b[1;33m!=\u001b[0m \u001b[1;36m0\u001b[0m\u001b[1;33m:\u001b[0m\u001b[1;33m\u001b[0m\u001b[1;33m\u001b[0m\u001b[0m\n",
      "\u001b[1;31mTypeError\u001b[0m: exceptions must derive from BaseException",
      "\nDuring handling of the above exception, another exception occurred:\n",
      "\u001b[1;31mTypeError\u001b[0m                                 Traceback (most recent call last)",
      "\u001b[1;32m~\\AppData\\Local\\Temp/ipykernel_13288/2323260017.py\u001b[0m in \u001b[0;36m<module>\u001b[1;34m\u001b[0m\n\u001b[0;32m     14\u001b[0m         \u001b[1;32mraise\u001b[0m \u001b[0mCustomException\u001b[0m\u001b[1;33m(\u001b[0m\u001b[1;34m'Number is Odd!'\u001b[0m\u001b[1;33m)\u001b[0m\u001b[1;33m\u001b[0m\u001b[1;33m\u001b[0m\u001b[0m\n\u001b[0;32m     15\u001b[0m \u001b[1;33m\u001b[0m\u001b[0m\n\u001b[1;32m---> 16\u001b[1;33m \u001b[1;32mexcept\u001b[0m \u001b[0mCustomException\u001b[0m \u001b[1;32mas\u001b[0m \u001b[0mce\u001b[0m\u001b[1;33m:\u001b[0m\u001b[1;33m\u001b[0m\u001b[1;33m\u001b[0m\u001b[0m\n\u001b[0m\u001b[0;32m     17\u001b[0m     \u001b[0mprint\u001b[0m\u001b[1;33m(\u001b[0m\u001b[0mce\u001b[0m\u001b[1;33m.\u001b[0m\u001b[0mmessage\u001b[0m\u001b[1;33m)\u001b[0m\u001b[1;33m\u001b[0m\u001b[1;33m\u001b[0m\u001b[0m\n",
      "\u001b[1;31mTypeError\u001b[0m: catching classes that do not inherit from BaseException is not allowed"
     ]
    }
   ],
   "source": [
    "class CustomException(Exception):\n",
    "    \n",
    "    \"\"\"\n",
    "    Exception raised for custom purpose.\n",
    "    \"\"\"\n",
    "    def __init__(self, message):\n",
    "        self.message = message\n",
    "\n",
    "num = int(input())\n",
    "try:\n",
    "    if num % 2 == 0:\n",
    "        raise CustomException('Number is Even!')\n",
    "    elif num % 2 != 0:\n",
    "        raise CustomException('Number is Odd!')\n",
    "    \n",
    "except CustomException as ce:\n",
    "    print(ce.message)"
   ]
  },
  {
   "cell_type": "markdown",
   "id": "e17e3a4d",
   "metadata": {},
   "source": [
    "### Question 53\n",
    "Assuming that we have some email addresses in the \"username@companyname.com\" format, please write program to print the user name of a given email address. Both user names and company names are composed of letters only.\n",
    "\n",
    "Example: If the following email address is given as input to the program: john@google.com  \n",
    "Then, the output of the program should be:  john    \n",
    "In case of input data being supplied to the question, it should be assumed to be a console input."
   ]
  },
  {
   "cell_type": "code",
   "execution_count": 21,
   "id": "714ccade",
   "metadata": {},
   "outputs": [
    {
     "name": "stdout",
     "output_type": "stream",
     "text": [
      "gani@earth.com\n",
      "Name:  gani\n",
      "['john']\n"
     ]
    }
   ],
   "source": [
    "email_address = [i for i in input().split('@')]\n",
    "print('Name: ',email_address[0])\n",
    "\n",
    "#OR\n",
    "\n",
    "import re\n",
    "\n",
    "email = \"john@google.com\"\n",
    "pattern = \"(\\w+)@\\w+.com\"\n",
    "ans = re.findall(pattern,email)\n",
    "print(ans)"
   ]
  },
  {
   "cell_type": "markdown",
   "id": "ff3e869c",
   "metadata": {},
   "source": [
    "### Question 54\n",
    "Assuming that we have some email addresses in the \"username@companyname.com\" format, please write program to print the company name of a given email address. Both user names and company names are composed of letters only.\n",
    "\n",
    "Example: If the following email address is given as input to the program: john@google.com  \n",
    "Then, the output of the program should be: google  \n",
    "\n",
    "In case of input data being supplied to the question, it should be assumed to be a console input.\n",
    "\n",
    "Hints\n",
    "Use \\w to match letters."
   ]
  },
  {
   "cell_type": "code",
   "execution_count": 41,
   "id": "78b2ea0e",
   "metadata": {},
   "outputs": [
    {
     "name": "stdout",
     "output_type": "stream",
     "text": [
      "gani@earth.com\n",
      "Company name:  earth\n",
      "['google']\n"
     ]
    }
   ],
   "source": [
    "email_address = [i for i in input().split('@')]\n",
    "print('Company name: ',email_address[1].split('.')[0])\n",
    "\n",
    "#OR\n",
    "\n",
    "email = \"john@google.com\"\n",
    "pattern = \"\\w+@(\\w+).com\"\n",
    "ans = re.findall(pattern,email)\n",
    "print(ans)"
   ]
  },
  {
   "cell_type": "markdown",
   "id": "679e9dd5",
   "metadata": {},
   "source": [
    "### Question 55\n",
    "\n",
    "Write a program which accepts a sequence of words separated by whitespace as input to print the words composed of digits only.\n",
    "\n",
    "Example: If the following words is given as input to the program: 2 cats and 3 dogs.  \n",
    "Then, the output of the program should be: ['2', '3']  \n",
    "\n",
    "Use both Exception handling technique and optimised method.\n",
    "\n",
    "In case of input data being supplied to the question, it should be assumed to be a console input."
   ]
  },
  {
   "cell_type": "code",
   "execution_count": 65,
   "id": "f907a01f",
   "metadata": {},
   "outputs": [
    {
     "name": "stdout",
     "output_type": "stream",
     "text": [
      "2 cats and 3 dogs.\n",
      "['2', '3']\n",
      "2 cats and 3 dogs.\n"
     ]
    },
    {
     "data": {
      "text/plain": [
       "['2', '3']"
      ]
     },
     "execution_count": 65,
     "metadata": {},
     "output_type": "execute_result"
    }
   ],
   "source": [
    "#Exception handling\n",
    "l = [x for x in input().split()]\n",
    "result = []\n",
    "\n",
    "for i in l:\n",
    "    try:\n",
    "        result.append(str(int(i)))\n",
    "    except ValueError:\n",
    "        pass\n",
    "\n",
    "print(result)\n",
    "\n",
    "# OR\n",
    "#optimised method\n",
    "\n",
    "result = [i for i in input().split() if i.isdigit()]\n",
    "result"
   ]
  },
  {
   "cell_type": "markdown",
   "id": "d699697f",
   "metadata": {},
   "source": [
    "### Question 56\n",
    "Print a unicode string \"hello world\"."
   ]
  },
  {
   "cell_type": "code",
   "execution_count": 68,
   "id": "0fbb63ad",
   "metadata": {},
   "outputs": [
    {
     "data": {
      "text/plain": [
       "'hello world'"
      ]
     },
     "execution_count": 68,
     "metadata": {},
     "output_type": "execute_result"
    }
   ],
   "source": [
    "unicodeString = u\"hello world\"\n",
    "unicodeString"
   ]
  },
  {
   "cell_type": "markdown",
   "id": "4628a9ab",
   "metadata": {},
   "source": [
    "### Question 57\n",
    "Write a program to read an ASCII string and to convert it to a unicode string encoded by utf-8.\n",
    "\n",
    "Hint:  \n",
    "Use unicode()/encode() function to convert."
   ]
  },
  {
   "cell_type": "code",
   "execution_count": 72,
   "id": "4a23cdf1",
   "metadata": {},
   "outputs": [
    {
     "name": "stdout",
     "output_type": "stream",
     "text": [
      "hello\n",
      "b'hello'\n"
     ]
    }
   ],
   "source": [
    "s = input()\n",
    "u = s.encode('utf-8')\n",
    "print(u)"
   ]
  },
  {
   "cell_type": "markdown",
   "id": "e8482e8b",
   "metadata": {},
   "source": [
    "### Question 58\n",
    "Write a special comment to indicate a Python source code file is in unicode."
   ]
  },
  {
   "cell_type": "code",
   "execution_count": 74,
   "id": "736f6918",
   "metadata": {},
   "outputs": [],
   "source": [
    "# -*- coding: utf-8 -*-"
   ]
  },
  {
   "cell_type": "markdown",
   "id": "2b340136",
   "metadata": {},
   "source": [
    "### Question 59\n",
    "Write a program to compute 1/2+2/3+3/4+...+n/n+1 with a given n input by console (n>0).\n",
    "\n",
    "Example: If the following n is given as input to the program: 5  \n",
    "Then, the output of the program should be: 3.55  \n",
    "\n",
    "In case of input data being supplied to the question, it should be assumed to be a console input."
   ]
  },
  {
   "cell_type": "code",
   "execution_count": 80,
   "id": "038caeea",
   "metadata": {},
   "outputs": [
    {
     "name": "stdout",
     "output_type": "stream",
     "text": [
      "5\n"
     ]
    },
    {
     "data": {
      "text/plain": [
       "3.55"
      ]
     },
     "execution_count": 80,
     "metadata": {},
     "output_type": "execute_result"
    }
   ],
   "source": [
    "n = int(input())\n",
    "result = 0\n",
    "for i in range(1, n+1):\n",
    "    result += i/(i+1)\n",
    "    \n",
    "round(result,2)"
   ]
  },
  {
   "cell_type": "markdown",
   "id": "a1fb02a2",
   "metadata": {},
   "source": [
    "### Question 60\n",
    "Write a program to compute:\n",
    "\n",
    "f(n)=f(n-1)+100 when n>0 and f(0)=1 with a given n input by console (n>0).\n",
    "\n",
    "Example: If the following n is given as input to the program: 5  \n",
    "Then, the output of the program should be: 500  \n",
    "\n",
    "In case of input data being supplied to the question, it should be assumed to be a console input."
   ]
  },
  {
   "cell_type": "code",
   "execution_count": 92,
   "id": "c2eb890e",
   "metadata": {},
   "outputs": [
    {
     "name": "stdout",
     "output_type": "stream",
     "text": [
      "5\n",
      "500\n"
     ]
    }
   ],
   "source": [
    "def fun(n):\n",
    "    if n==0:\n",
    "        return 0\n",
    "    else:\n",
    "        return fun(n-1) + 100\n",
    "\n",
    "n = int(input())\n",
    "print(fun(n))"
   ]
  },
  {
   "cell_type": "code",
   "execution_count": null,
   "id": "f469dff7",
   "metadata": {},
   "outputs": [],
   "source": []
  }
 ],
 "metadata": {
  "kernelspec": {
   "display_name": "Python 3 (ipykernel)",
   "language": "python",
   "name": "python3"
  },
  "language_info": {
   "codemirror_mode": {
    "name": "ipython",
    "version": 3
   },
   "file_extension": ".py",
   "mimetype": "text/x-python",
   "name": "python",
   "nbconvert_exporter": "python",
   "pygments_lexer": "ipython3",
   "version": "3.9.7"
  }
 },
 "nbformat": 4,
 "nbformat_minor": 5
}
