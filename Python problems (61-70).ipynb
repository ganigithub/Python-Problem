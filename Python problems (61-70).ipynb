{
 "cells": [
  {
   "cell_type": "code",
   "execution_count": 3,
   "id": "54138096",
   "metadata": {},
   "outputs": [],
   "source": [
    "import pandas as pd\n",
    "import numpy as np"
   ]
  },
  {
   "cell_type": "markdown",
   "id": "f797e5c2",
   "metadata": {},
   "source": [
    "### Question 61\n",
    "The Fibonacci Sequence is computed based on the following formula:\n",
    "\n",
    "f(n)=0 if n=0  \n",
    "f(n)=1 if n=1  \n",
    "f(n)=f(n-1)+f(n-2) if n>1\n",
    "\n",
    "Please write a program to compute the value of f(n) with a given n input by console.\n",
    "\n",
    "Example: If the following n is given as input to the program: 7  \n",
    "Then, the output of the program should be: 13  \n",
    "\n",
    "In case of input data being supplied to the question, it should be assumed to be a console input."
   ]
  },
  {
   "cell_type": "code",
   "execution_count": 30,
   "id": "976118ca",
   "metadata": {},
   "outputs": [
    {
     "name": "stdout",
     "output_type": "stream",
     "text": [
      "7\n"
     ]
    },
    {
     "data": {
      "text/plain": [
       "13"
      ]
     },
     "execution_count": 30,
     "metadata": {},
     "output_type": "execute_result"
    }
   ],
   "source": [
    "def fun(n):\n",
    "    if n < 2:\n",
    "        return n\n",
    "    else:\n",
    "        return (fun(n-1) + fun(n-2))\n",
    "\n",
    "n = int(input())\n",
    "fun(n)"
   ]
  },
  {
   "cell_type": "markdown",
   "id": "06c01163",
   "metadata": {},
   "source": [
    "### Question 62\n",
    "The Fibonacci Sequence is computed based on the following formula:\n",
    "\n",
    "f(n)=0 if n=0  \n",
    "f(n)=1 if n=1  \n",
    "f(n)=f(n-1)+f(n-2) if n>1\n",
    "\n",
    "Please write a program to compute the value of f(n) with a given n input by console.\n",
    "\n",
    "Example: If the following n is given as input to the program: 7  \n",
    "Then, the output of the program should be: 0,1,1,2,3,5,8,13\n",
    "\n",
    "In case of input data being supplied to the question, it should be assumed to be a console input."
   ]
  },
  {
   "cell_type": "code",
   "execution_count": 18,
   "id": "a17c2104",
   "metadata": {},
   "outputs": [
    {
     "name": "stdout",
     "output_type": "stream",
     "text": [
      "7\n",
      "0,1,1,2,3,5,8,13\n"
     ]
    }
   ],
   "source": [
    "def fun(n):\n",
    "    if n < 2: return n\n",
    "    else: return fun(n-1)+fun(n-2)\n",
    "            \n",
    "n = int(input())\n",
    "values = [str(fun(x)) for x in range(0,n+1)]\n",
    "\n",
    "print(','.join(values))"
   ]
  },
  {
   "cell_type": "markdown",
   "id": "b9085e3c",
   "metadata": {},
   "source": [
    "### Question 63\n",
    "Please write a program using generator to print the even numbers between 0 and n in comma separated form while n is input by console.\n",
    "\n",
    "Example: If the following n is given as input to the program: 10  \n",
    "Then, the output of the program should be: 0,2,4,6,8,10\n",
    "\n",
    "In case of input data being supplied to the question, it should be assumed to be a console input.\n",
    "\n",
    "Hints\n",
    "Use yield to produce the next value in generator."
   ]
  },
  {
   "cell_type": "code",
   "execution_count": 6,
   "id": "fa35bf78",
   "metadata": {},
   "outputs": [
    {
     "name": "stdout",
     "output_type": "stream",
     "text": [
      "10\n",
      "0,2,4,6,8,10\n"
     ]
    }
   ],
   "source": [
    "def even(n):\n",
    "    for i in range(0,n+1):\n",
    "        if i%2==0:\n",
    "            yield i\n",
    "\n",
    "n = int(input())\n",
    "values = []\n",
    "\n",
    "for i in even(n):\n",
    "    values.append(str(i))\n",
    "    \n",
    "print(','.join(values))"
   ]
  },
  {
   "cell_type": "markdown",
   "id": "e765b863",
   "metadata": {},
   "source": [
    "### Question 64\n",
    "Please write a program using generator to print the numbers which can be divisible by 5 and 7 between 0 and n in comma separated form while n is input by console.\n",
    "\n",
    "Example: If the following n is given as input to the program: 100  \n",
    "Then, the output of the program should be: 0,35,70\n",
    "\n",
    "In case of input data being supplied to the question, it should be assumed to be a console input."
   ]
  },
  {
   "cell_type": "code",
   "execution_count": 7,
   "id": "58cf716e",
   "metadata": {},
   "outputs": [
    {
     "name": "stdout",
     "output_type": "stream",
     "text": [
      "100\n",
      "0,35,70\n"
     ]
    }
   ],
   "source": [
    "def fun(n):\n",
    "    for i in range(0,n+1):\n",
    "        if i%5==0 and i%7==0:\n",
    "            yield i\n",
    "\n",
    "n = int(input())\n",
    "values = []\n",
    "for i in fun(n):\n",
    "    values.append(str(i))\n",
    "print(','.join(values))"
   ]
  },
  {
   "cell_type": "markdown",
   "id": "3d685180",
   "metadata": {},
   "source": [
    "### Question 65\n",
    "Please write assert statements to verify that every number in the list [2,4,6,8] is even."
   ]
  },
  {
   "cell_type": "code",
   "execution_count": 12,
   "id": "ca463fb2",
   "metadata": {
    "collapsed": true
   },
   "outputs": [
    {
     "ename": "AssertionError",
     "evalue": "1 is not an Even number!",
     "output_type": "error",
     "traceback": [
      "\u001b[1;31m---------------------------------------------------------------------------\u001b[0m",
      "\u001b[1;31mAssertionError\u001b[0m                            Traceback (most recent call last)",
      "\u001b[1;32m~\\AppData\\Local\\Temp/ipykernel_12336/2604739453.py\u001b[0m in \u001b[0;36m<module>\u001b[1;34m\u001b[0m\n\u001b[0;32m      4\u001b[0m \u001b[1;33m\u001b[0m\u001b[0m\n\u001b[0;32m      5\u001b[0m \u001b[0meven\u001b[0m\u001b[1;33m(\u001b[0m\u001b[1;33m[\u001b[0m\u001b[1;36m2\u001b[0m\u001b[1;33m,\u001b[0m\u001b[1;36m4\u001b[0m\u001b[1;33m,\u001b[0m\u001b[1;36m6\u001b[0m\u001b[1;33m,\u001b[0m\u001b[1;36m8\u001b[0m\u001b[1;33m]\u001b[0m\u001b[1;33m)\u001b[0m\u001b[1;33m\u001b[0m\u001b[1;33m\u001b[0m\u001b[0m\n\u001b[1;32m----> 6\u001b[1;33m \u001b[0meven\u001b[0m\u001b[1;33m(\u001b[0m\u001b[1;33m[\u001b[0m\u001b[1;36m2\u001b[0m\u001b[1;33m,\u001b[0m\u001b[1;36m1\u001b[0m\u001b[1;33m,\u001b[0m\u001b[1;36m4\u001b[0m\u001b[1;33m]\u001b[0m\u001b[1;33m)\u001b[0m\u001b[1;33m\u001b[0m\u001b[1;33m\u001b[0m\u001b[0m\n\u001b[0m",
      "\u001b[1;32m~\\AppData\\Local\\Temp/ipykernel_12336/2604739453.py\u001b[0m in \u001b[0;36meven\u001b[1;34m(l)\u001b[0m\n\u001b[0;32m      1\u001b[0m \u001b[1;32mdef\u001b[0m \u001b[0meven\u001b[0m\u001b[1;33m(\u001b[0m\u001b[0ml\u001b[0m\u001b[1;33m)\u001b[0m\u001b[1;33m:\u001b[0m\u001b[1;33m\u001b[0m\u001b[1;33m\u001b[0m\u001b[0m\n\u001b[0;32m      2\u001b[0m     \u001b[1;32mfor\u001b[0m \u001b[0mi\u001b[0m \u001b[1;32min\u001b[0m \u001b[0ml\u001b[0m\u001b[1;33m:\u001b[0m\u001b[1;33m\u001b[0m\u001b[1;33m\u001b[0m\u001b[0m\n\u001b[1;32m----> 3\u001b[1;33m         \u001b[1;32massert\u001b[0m \u001b[0mi\u001b[0m\u001b[1;33m%\u001b[0m\u001b[1;36m2\u001b[0m\u001b[1;33m==\u001b[0m\u001b[1;36m0\u001b[0m\u001b[1;33m,\u001b[0m \u001b[1;34m'{} is not an Even number!'\u001b[0m\u001b[1;33m.\u001b[0m\u001b[0mformat\u001b[0m\u001b[1;33m(\u001b[0m\u001b[0mi\u001b[0m\u001b[1;33m)\u001b[0m\u001b[1;33m\u001b[0m\u001b[1;33m\u001b[0m\u001b[0m\n\u001b[0m\u001b[0;32m      4\u001b[0m \u001b[1;33m\u001b[0m\u001b[0m\n\u001b[0;32m      5\u001b[0m \u001b[0meven\u001b[0m\u001b[1;33m(\u001b[0m\u001b[1;33m[\u001b[0m\u001b[1;36m2\u001b[0m\u001b[1;33m,\u001b[0m\u001b[1;36m4\u001b[0m\u001b[1;33m,\u001b[0m\u001b[1;36m6\u001b[0m\u001b[1;33m,\u001b[0m\u001b[1;36m8\u001b[0m\u001b[1;33m]\u001b[0m\u001b[1;33m)\u001b[0m\u001b[1;33m\u001b[0m\u001b[1;33m\u001b[0m\u001b[0m\n",
      "\u001b[1;31mAssertionError\u001b[0m: 1 is not an Even number!"
     ]
    }
   ],
   "source": [
    "def even(l):\n",
    "    for i in l:\n",
    "        assert i%2==0, '{} is not an Even number!'.format(i)\n",
    "\n",
    "even([2,4,6,8])\n",
    "even([2,1,4])    #here assertion error is raised"
   ]
  },
  {
   "cell_type": "markdown",
   "id": "dd1e3215",
   "metadata": {},
   "source": [
    "### Question 66\n",
    "Please write a program which accepts basic mathematic expression from console and print the evaluation result.\n",
    "\n",
    "Example: If the following n is given as input to the program: 35 + 3  \n",
    "Then, the output of the program should be: 38\n"
   ]
  },
  {
   "cell_type": "code",
   "execution_count": 27,
   "id": "90756cf9",
   "metadata": {},
   "outputs": [
    {
     "name": "stdout",
     "output_type": "stream",
     "text": [
      "31 + 1\n",
      "32\n",
      "3*4\n",
      "12\n"
     ]
    }
   ],
   "source": [
    "l = [x for x in input().split()]\n",
    "\n",
    "if l[1] == '+':\n",
    "    print(int(l[0]) + int(l[2]))\n",
    "if l[1] == '-':\n",
    "    print(int(l[0]) - int(l[2]))\n",
    "if l[1] == '/':\n",
    "    print(int(l[0]) / int(l[2]))\n",
    "if l[1] == '*':\n",
    "    print(int(l[0]) * int(l[2]))\n",
    "\n",
    "#OR \n",
    "\n",
    "expression = input()\n",
    "ans = eval(expression)\n",
    "print(ans)"
   ]
  },
  {
   "cell_type": "markdown",
   "id": "396aae59",
   "metadata": {},
   "source": [
    "### Question 67\n",
    "Please write a binary search function which searches an item in a sorted list. The function should return the index of element to be searched in the list."
   ]
  },
  {
   "cell_type": "code",
   "execution_count": 85,
   "id": "94a08c61",
   "metadata": {},
   "outputs": [
    {
     "name": "stdout",
     "output_type": "stream",
     "text": [
      "4\n",
      "element absent\n"
     ]
    }
   ],
   "source": [
    "def binary_search(l, element):\n",
    "    bottom = 0\n",
    "    top    = len(l)-1\n",
    "    index  = -1\n",
    "    \n",
    "    while top >= bottom and index == -1:\n",
    "        \n",
    "        middle = int((top + bottom)/2)\n",
    "        \n",
    "        if l[middle] == element:\n",
    "            index = middle\n",
    "        \n",
    "        elif l[middle] > element:\n",
    "            top = middle - 1\n",
    "            \n",
    "        else:\n",
    "            bottom = middle + 1\n",
    "            \n",
    "    if index == -1:\n",
    "        print('element absent')\n",
    "    else:\n",
    "        return index\n",
    "\n",
    "\n",
    "l=[2,5,7,9,11,17,222]\n",
    "\n",
    "print(binary_search(l,11))\n",
    "binary_search(l, 99)"
   ]
  },
  {
   "cell_type": "markdown",
   "id": "f7c73caa",
   "metadata": {},
   "source": [
    "### Question 68\n",
    "Please generate a random float where the value is between 10 and 100 using Python module.\n",
    "\n"
   ]
  },
  {
   "cell_type": "code",
   "execution_count": 28,
   "id": "c5576f35",
   "metadata": {},
   "outputs": [
    {
     "name": "stdout",
     "output_type": "stream",
     "text": [
      "60.04219481308258\n",
      "[12.98593561]\n",
      "75.82317091093098\n"
     ]
    }
   ],
   "source": [
    "import random\n",
    "print(random.random() * 100)\n",
    "\n",
    "#OR\n",
    "print(np.random.random(1)*100)\n",
    "\n",
    "#OR\n",
    "print(random.uniform(10,100))"
   ]
  },
  {
   "cell_type": "markdown",
   "id": "9e6dd2cf",
   "metadata": {},
   "source": [
    "### Question 69\n",
    "Please generate a random float where the value is between 5 and 95 using Python module."
   ]
  },
  {
   "cell_type": "code",
   "execution_count": 34,
   "id": "667c6048",
   "metadata": {},
   "outputs": [
    {
     "name": "stdout",
     "output_type": "stream",
     "text": [
      "25.660284559070483\n",
      "37.48987084369213\n"
     ]
    }
   ],
   "source": [
    "import random\n",
    "print(random.random()*100 - 5)\n",
    "\n",
    "#OR\n",
    "print(random.uniform(5,95))"
   ]
  },
  {
   "cell_type": "markdown",
   "id": "63a3c1b4",
   "metadata": {},
   "source": [
    "### Question 70\n",
    "Please write a program to output a random even number between 0 and 10 inclusive using random module and list comprehension."
   ]
  },
  {
   "cell_type": "code",
   "execution_count": 56,
   "id": "46aadda4",
   "metadata": {},
   "outputs": [
    {
     "name": "stdout",
     "output_type": "stream",
     "text": [
      "8\n"
     ]
    }
   ],
   "source": [
    "import random\n",
    "\n",
    "even_numbers = [i for i in range(0,11) if int(i) % 2==0]\n",
    "print(random.choice(even_numbers))"
   ]
  }
 ],
 "metadata": {
  "kernelspec": {
   "display_name": "Python 3 (ipykernel)",
   "language": "python",
   "name": "python3"
  },
  "language_info": {
   "codemirror_mode": {
    "name": "ipython",
    "version": 3
   },
   "file_extension": ".py",
   "mimetype": "text/x-python",
   "name": "python",
   "nbconvert_exporter": "python",
   "pygments_lexer": "ipython3",
   "version": "3.9.7"
  }
 },
 "nbformat": 4,
 "nbformat_minor": 5
}
