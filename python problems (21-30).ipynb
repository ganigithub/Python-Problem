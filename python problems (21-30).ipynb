{
 "cells": [
  {
   "cell_type": "markdown",
   "id": "c23d3352",
   "metadata": {},
   "source": [
    "### Question 21\n",
    "A robot moves in a plane starting from the original point (0,0). The robot can move toward UP, DOWN, LEFT and RIGHT with a given steps. The trace of robot movement is shown as the following:\n",
    "\n",
    "UP 5  \n",
    "DOWN 3  \n",
    "LEFT 3  \n",
    "RIGHT 2  \n",
    "\n",
    "The numbers after the direction are steps. Please write a program to compute the distance from current position after a sequence of movement and original point. If the distance is a float, then just print the nearest integer. Example: If the following tuples are given as input to the program:\n",
    "\n",
    "UP 5  \n",
    "DOWN 3   \n",
    "LEFT 3  \n",
    "RIGHT 2 \n",
    "\n",
    "Then, the output of the program should be:  \n",
    "2"
   ]
  },
  {
   "cell_type": "code",
   "execution_count": 2,
   "id": "d4ba79ec",
   "metadata": {},
   "outputs": [
    {
     "name": "stdout",
     "output_type": "stream",
     "text": [
      "up 5\n",
      "down 3\n",
      "left 3\n",
      "right 2\n",
      "\n",
      "The final position is: 2\n"
     ]
    }
   ],
   "source": [
    "import numpy as np\n",
    "import math\n",
    "x,y = 0,0\n",
    "while True:\n",
    "    l = input().split()\n",
    "    if not l:\n",
    "        break\n",
    "    \n",
    "    if l[0] == 'up':\n",
    "        y += int(l[1])\n",
    "    elif l[0] == 'down':\n",
    "        y -= int(l[1])\n",
    "    elif l[0] == 'left':\n",
    "        x -= int(l[1])\n",
    "    elif l[0] == 'right':\n",
    "        x += int(l[1])\n",
    "\n",
    "distance =  round(math.sqrt(x**2 + y**2))\n",
    "print('The final position is:' ,distance)"
   ]
  },
  {
   "cell_type": "markdown",
   "id": "0d8a0f77",
   "metadata": {},
   "source": [
    "### Question 22\n",
    "Write a program to compute the frequency of the words from the input. The output should output after sorting the key alphanumerically.  \n",
    "Suppose the following input is supplied to the program:  \n",
    "New to Python or choosing between Python 2 and Python 3? Read Python 2 or Python 3.  \n",
    "Then, the output should be:\n",
    "\n",
    "2:2  \n",
    "3.:1  \n",
    "3?:1  \n",
    "New:1  \n",
    "Python:5  \n",
    "Read:1  \n",
    "and:1  \n",
    "between:1  \n",
    "choosing:1  \n",
    "or:2  \n",
    "to:1  "
   ]
  },
  {
   "cell_type": "code",
   "execution_count": 75,
   "id": "03c5b5d0",
   "metadata": {},
   "outputs": [
    {
     "name": "stdout",
     "output_type": "stream",
     "text": [
      "New to Python or choosing between Python 2 and Python 3? Read Python 2 or Python 3.\n",
      "2:2\n",
      "3.:1\n",
      "3?:1\n",
      "New:1\n",
      "Python:5\n",
      "Read:1\n",
      "and:1\n",
      "between:1\n",
      "choosing:1\n",
      "or:2\n",
      "to:1\n"
     ]
    }
   ],
   "source": [
    "l = [x for x in input().split(' ')]\n",
    "\n",
    "result = {}\n",
    "for word in l:\n",
    "    if word not in result.keys():\n",
    "        result[word] = 1\n",
    "    else:\n",
    "        result[word] += 1\n",
    "\n",
    "for i in sorted(result.items()):\n",
    "    print('%s:%d'% (i[0],i[1]))"
   ]
  },
  {
   "cell_type": "code",
   "execution_count": null,
   "id": "983736fd",
   "metadata": {},
   "outputs": [],
   "source": [
    "## OR \n",
    "\n",
    "inp = input().split()\n",
    "l = sorted(set(inp))    #we convert input to set to remove duplicates and sort them\n",
    "for i in l:\n",
    "    print(\"{0}:{1}\".format(i, inp.count(i)))\n",
    "    \n",
    "## OR\n",
    "\n",
    "inp = input().split()\n",
    "dict = {}\n",
    "for i in inp:\n",
    "    i = dict.setdefault(i, inp.count(i))\n",
    "\n",
    "dict = sorted(dict.items())\n",
    "for i in dict:\n",
    "    print('%s:%d'%(i[0],i[1]))"
   ]
  },
  {
   "cell_type": "markdown",
   "id": "e46e0e21",
   "metadata": {},
   "source": [
    "### Question 23\n",
    "Write a method which can calculate square value of number"
   ]
  },
  {
   "cell_type": "code",
   "execution_count": 86,
   "id": "84cd9bc1",
   "metadata": {},
   "outputs": [
    {
     "name": "stdout",
     "output_type": "stream",
     "text": [
      "3\n"
     ]
    },
    {
     "data": {
      "text/plain": [
       "9"
      ]
     },
     "execution_count": 86,
     "metadata": {},
     "output_type": "execute_result"
    }
   ],
   "source": [
    "a = input()\n",
    "\n",
    "def square(a):\n",
    "    return a*a\n",
    "\n",
    "square(int(a))"
   ]
  },
  {
   "cell_type": "markdown",
   "id": "daaa0ee5",
   "metadata": {},
   "source": [
    "### Question 24\n",
    "Python has many built-in functions, and if you do not know how to use it, you can read document online or find some books. But Python has a built-in document function for every built-in functions.\n",
    "\n",
    "Please write a program to print some Python built-in functions documents, such as abs(), int(), raw_input()\n",
    "\n",
    "And add document for your own function"
   ]
  },
  {
   "cell_type": "code",
   "execution_count": 98,
   "id": "b4a17579",
   "metadata": {},
   "outputs": [
    {
     "name": "stdout",
     "output_type": "stream",
     "text": [
      "4\n",
      "\n",
      "    Returns the square of the input value.\n",
      "    Input value must be an integer.\n",
      "    \n",
      "    \n"
     ]
    }
   ],
   "source": [
    "def square(a):\n",
    "    '''\n",
    "    Returns the square of the input value.\n",
    "    Input value must be an integer.\n",
    "    \n",
    "    '''\n",
    "    return a*a\n",
    "\n",
    "print(square(2))\n",
    "print(square.__doc__)"
   ]
  },
  {
   "cell_type": "markdown",
   "id": "db9fd52d",
   "metadata": {},
   "source": [
    "### Question 25\n",
    "Define a class, which have a class parameter and have a same instance parameter."
   ]
  },
  {
   "cell_type": "code",
   "execution_count": 117,
   "id": "0580e6ed",
   "metadata": {},
   "outputs": [
    {
     "name": "stdout",
     "output_type": "stream",
     "text": [
      "Car name is Honda\n",
      "Car name is Toyota\n"
     ]
    }
   ],
   "source": [
    "class Car:\n",
    "    name = 'Car'\n",
    "    def __init__(self, name):\n",
    "        self.name = name\n",
    "    \n",
    "Honda = Car('Honda')\n",
    "print('%s name is %s'%(Car.name, Honda.name))\n",
    "\n",
    "Toyota = Car('Toyota')\n",
    "print('%s name is %s'%(Car.name, Toyota.name))"
   ]
  },
  {
   "cell_type": "markdown",
   "id": "7d240c96",
   "metadata": {},
   "source": [
    "### Question 26\n",
    "Define a function which can compute the sum of two numbers."
   ]
  },
  {
   "cell_type": "code",
   "execution_count": 7,
   "id": "613d01df",
   "metadata": {},
   "outputs": [
    {
     "data": {
      "text/plain": [
       "4"
      ]
     },
     "execution_count": 7,
     "metadata": {},
     "output_type": "execute_result"
    }
   ],
   "source": [
    "# def add(a,b):\n",
    "#     return a+b\n",
    "\n",
    "## OR\n",
    "add = lambda i,j : i + j     #here lambda is use to define little function as sum\n",
    "add(2,2)"
   ]
  },
  {
   "cell_type": "markdown",
   "id": "5ba5b485",
   "metadata": {},
   "source": [
    "### Question 27\n",
    "Define a function that can convert a integer into a string and print it in console."
   ]
  },
  {
   "cell_type": "code",
   "execution_count": 11,
   "id": "4bb574a1",
   "metadata": {},
   "outputs": [
    {
     "data": {
      "text/plain": [
       "'4'"
      ]
     },
     "execution_count": 11,
     "metadata": {},
     "output_type": "execute_result"
    }
   ],
   "source": [
    "# def string(x):\n",
    "#     return str(x)\n",
    "\n",
    "## OR\n",
    "string = lambda x : str(x)\n",
    "string(4)"
   ]
  },
  {
   "cell_type": "markdown",
   "id": "beb8a5fe",
   "metadata": {},
   "source": [
    "### Question 28\n",
    "Define a function that can receive two integer numbers in string form and compute their sum and then print it in console."
   ]
  },
  {
   "cell_type": "code",
   "execution_count": 14,
   "id": "3b920f88",
   "metadata": {},
   "outputs": [
    {
     "data": {
      "text/plain": [
       "3"
      ]
     },
     "execution_count": 14,
     "metadata": {},
     "output_type": "execute_result"
    }
   ],
   "source": [
    "# def conv(a,b):\n",
    "#     return int(a) + int(b)\n",
    "# conv('1','2')\n",
    "\n",
    "##OR\n",
    "\n",
    "conv = lambda a,b: int(a) + int(b)\n",
    "conv('1','2')"
   ]
  },
  {
   "cell_type": "markdown",
   "id": "59dd2625",
   "metadata": {},
   "source": [
    "### Question 29\n",
    "Define a function that can accept two strings as input and concatenate them and then print it in console."
   ]
  },
  {
   "cell_type": "code",
   "execution_count": 11,
   "id": "b4fdfa44",
   "metadata": {},
   "outputs": [
    {
     "data": {
      "text/plain": [
       "'1020'"
      ]
     },
     "execution_count": 11,
     "metadata": {},
     "output_type": "execute_result"
    }
   ],
   "source": [
    "conc = lambda a,b : a + b\n",
    "conc('10','20')"
   ]
  },
  {
   "cell_type": "markdown",
   "id": "26a1679f",
   "metadata": {},
   "source": [
    "### Question 30\n",
    "Define a function that can accept two strings as input and print the string with maximum length in console. If two strings have the same length, then the function should print all strings line by line."
   ]
  },
  {
   "cell_type": "code",
   "execution_count": 33,
   "id": "d87bff55",
   "metadata": {},
   "outputs": [
    {
     "name": "stdout",
     "output_type": "stream",
     "text": [
      "hello\n",
      "hello\n"
     ]
    }
   ],
   "source": [
    "def checker(a,b):\n",
    "    if len(a)>len(b):\n",
    "        print(a)\n",
    "    elif len(b) > len(a):\n",
    "        print(b)\n",
    "    else:\n",
    "        print(a)\n",
    "        print(b)\n",
    "        \n",
    "checker('hello','hello')"
   ]
  },
  {
   "cell_type": "code",
   "execution_count": null,
   "id": "0c4e8c8f",
   "metadata": {},
   "outputs": [],
   "source": []
  }
 ],
 "metadata": {
  "kernelspec": {
   "display_name": "Python 3 (ipykernel)",
   "language": "python",
   "name": "python3"
  },
  "language_info": {
   "codemirror_mode": {
    "name": "ipython",
    "version": 3
   },
   "file_extension": ".py",
   "mimetype": "text/x-python",
   "name": "python",
   "nbconvert_exporter": "python",
   "pygments_lexer": "ipython3",
   "version": "3.9.7"
  }
 },
 "nbformat": 4,
 "nbformat_minor": 5
}
